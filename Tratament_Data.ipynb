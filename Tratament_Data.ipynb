{
 "cells": [
  {
   "cell_type": "code",
   "execution_count": 92,
   "metadata": {},
   "outputs": [],
   "source": [
    "import pandas as pd\n",
    "import numpy as np\n",
    "import pyodbc\n",
    "from datetime import timedelta\n",
    "from tqdm import tqdm\n",
    "from scipy.stats import pearsonr"
   ]
  },
  {
   "cell_type": "code",
   "execution_count": 93,
   "metadata": {},
   "outputs": [],
   "source": [
    "name_db = 'StocksPriceIBrX'\n",
    "\n",
    "data_conection = (\"Driver={SQL Server};\"\n",
    "                 \"Server=DESKTOP-0EKP870;\"\n",
    "                 f\"Database={name_db};\")\n",
    "cnxn = pyodbc.connect(data_conection)\n",
    "cursor = cnxn.cursor()"
   ]
  },
  {
   "cell_type": "code",
   "execution_count": 94,
   "metadata": {
    "scrolled": true
   },
   "outputs": [
    {
     "data": {
      "text/html": [
       "<div>\n",
       "<style scoped>\n",
       "    .dataframe tbody tr th:only-of-type {\n",
       "        vertical-align: middle;\n",
       "    }\n",
       "\n",
       "    .dataframe tbody tr th {\n",
       "        vertical-align: top;\n",
       "    }\n",
       "\n",
       "    .dataframe thead th {\n",
       "        text-align: right;\n",
       "    }\n",
       "</style>\n",
       "<table border=\"1\" class=\"dataframe\">\n",
       "  <thead>\n",
       "    <tr style=\"text-align: right;\">\n",
       "      <th></th>\n",
       "      <th>TckrLst</th>\n",
       "      <th>ClsPrc</th>\n",
       "    </tr>\n",
       "    <tr>\n",
       "      <th>RptDt</th>\n",
       "      <th></th>\n",
       "      <th></th>\n",
       "    </tr>\n",
       "  </thead>\n",
       "  <tbody>\n",
       "    <tr>\n",
       "      <th>1996-01-02</th>\n",
       "      <td>['BES 4', 'CES 3', 'CES 4', 'CHA 4', 'CSI 6', ...</td>\n",
       "      <td>[5.04, 23.0, 26.7, 0.16, 1.28, 46.0, 2.5, 10.7...</td>\n",
       "    </tr>\n",
       "    <tr>\n",
       "      <th>1996-01-03</th>\n",
       "      <td>['BES 4', 'CES 3', 'CES 4', 'CHA 4', 'CSI 6', ...</td>\n",
       "      <td>[5.35, 24.0, 27.5, 0.17, 1.37, 54.0, 0.7, 10.7...</td>\n",
       "    </tr>\n",
       "    <tr>\n",
       "      <th>1996-01-04</th>\n",
       "      <td>['BES 4', 'CES 3', 'CES 4', 'CHA 4', 'CSI 6', ...</td>\n",
       "      <td>[5.5, 22.0, 28.49, 0.17, 1.35, 153.5, 2.5, 7.2...</td>\n",
       "    </tr>\n",
       "  </tbody>\n",
       "</table>\n",
       "</div>"
      ],
      "text/plain": [
       "                                                      TckrLst  \\\n",
       "RptDt                                                           \n",
       "1996-01-02  ['BES 4', 'CES 3', 'CES 4', 'CHA 4', 'CSI 6', ...   \n",
       "1996-01-03  ['BES 4', 'CES 3', 'CES 4', 'CHA 4', 'CSI 6', ...   \n",
       "1996-01-04  ['BES 4', 'CES 3', 'CES 4', 'CHA 4', 'CSI 6', ...   \n",
       "\n",
       "                                                       ClsPrc  \n",
       "RptDt                                                          \n",
       "1996-01-02  [5.04, 23.0, 26.7, 0.16, 1.28, 46.0, 2.5, 10.7...  \n",
       "1996-01-03  [5.35, 24.0, 27.5, 0.17, 1.37, 54.0, 0.7, 10.7...  \n",
       "1996-01-04  [5.5, 22.0, 28.49, 0.17, 1.35, 153.5, 2.5, 7.2...  "
      ]
     },
     "metadata": {},
     "output_type": "display_data"
    }
   ],
   "source": [
    "data_frame = pd.read_excel(r'data/StocksFrameIBrX.xlsx')\n",
    "data_frame = data_frame.set_index('RptDt')\n",
    "display(data_frame.head(3))"
   ]
  },
  {
   "cell_type": "code",
   "execution_count": 95,
   "metadata": {},
   "outputs": [
    {
     "name": "stderr",
     "output_type": "stream",
     "text": [
      "100%|████████████████████████████████████████████████████████████████████████████| 9495/9495 [00:01<00:00, 5387.99it/s]\n"
     ]
    }
   ],
   "source": [
    "new_tickers = []\n",
    "for i in tqdm(range(len(data_frame)), position=0, leave=True):\n",
    "    df_to_list = data_frame.iloc[i][0].split(',')\n",
    "    df_to_list[0] = df_to_list[0].replace('[',' ')\n",
    "    df_to_list[-1] = df_to_list[-1].replace(']','')\n",
    "    for j, element in enumerate(df_to_list):\n",
    "        df_to_list[j] = element.replace(' ', '')\n",
    "        df_to_list[j] = df_to_list[j][1:len(df_to_list[j])-1]\n",
    "        if len(df_to_list[j]) >=5:\n",
    "            aux_begin = df_to_list[j][:3]\n",
    "            aux_end = df_to_list[j][4:]\n",
    "            df_to_list[j] = aux_begin + aux_end\n",
    "    new_tickers.append(df_to_list)"
   ]
  },
  {
   "cell_type": "code",
   "execution_count": 96,
   "metadata": {},
   "outputs": [
    {
     "name": "stderr",
     "output_type": "stream",
     "text": [
      "100%|████████████████████████████████████████████████████████████████████████████| 9495/9495 [00:01<00:00, 7323.42it/s]\n"
     ]
    }
   ],
   "source": [
    "new_prices = []\n",
    "for i in tqdm(range(len(data_frame)), position=0, leave=True):\n",
    "    df_to_list = data_frame.iloc[i][1].split(',')\n",
    "    df_to_list[0] = df_to_list[0].replace('[',' ')\n",
    "    df_to_list[-1] = df_to_list[-1].replace(']','')\n",
    "    for j, element in enumerate(df_to_list):\n",
    "        df_to_list[j] = element.replace(' ', '')\n",
    "        df_to_list[j] = float(df_to_list[j])\n",
    "    new_prices.append(df_to_list)"
   ]
  },
  {
   "cell_type": "code",
   "execution_count": 97,
   "metadata": {
    "scrolled": false
   },
   "outputs": [
    {
     "data": {
      "text/html": [
       "<div>\n",
       "<style scoped>\n",
       "    .dataframe tbody tr th:only-of-type {\n",
       "        vertical-align: middle;\n",
       "    }\n",
       "\n",
       "    .dataframe tbody tr th {\n",
       "        vertical-align: top;\n",
       "    }\n",
       "\n",
       "    .dataframe thead th {\n",
       "        text-align: right;\n",
       "    }\n",
       "</style>\n",
       "<table border=\"1\" class=\"dataframe\">\n",
       "  <thead>\n",
       "    <tr style=\"text-align: right;\">\n",
       "      <th></th>\n",
       "      <th>TckrLst</th>\n",
       "      <th>ClsPrc</th>\n",
       "    </tr>\n",
       "    <tr>\n",
       "      <th>RptDt</th>\n",
       "      <th></th>\n",
       "      <th></th>\n",
       "    </tr>\n",
       "  </thead>\n",
       "  <tbody>\n",
       "    <tr>\n",
       "      <th>1996-01-02</th>\n",
       "      <td>[BES4, CES3, CES4, CHA4, CSI6, ELP6, FTS4, LEV...</td>\n",
       "      <td>[5.04, 23.0, 26.7, 0.16, 1.28, 46.0, 2.5, 10.7...</td>\n",
       "    </tr>\n",
       "    <tr>\n",
       "      <th>1996-01-03</th>\n",
       "      <td>[BES4, CES3, CES4, CHA4, CSI6, ELP6, FTS4, LEV...</td>\n",
       "      <td>[5.35, 24.0, 27.5, 0.17, 1.37, 54.0, 0.7, 10.7...</td>\n",
       "    </tr>\n",
       "    <tr>\n",
       "      <th>1996-01-04</th>\n",
       "      <td>[BES4, CES3, CES4, CHA4, CSI6, ELP6, FTS4, LEV...</td>\n",
       "      <td>[5.5, 22.0, 28.49, 0.17, 1.35, 153.5, 2.5, 7.2...</td>\n",
       "    </tr>\n",
       "  </tbody>\n",
       "</table>\n",
       "</div>"
      ],
      "text/plain": [
       "                                                      TckrLst  \\\n",
       "RptDt                                                           \n",
       "1996-01-02  [BES4, CES3, CES4, CHA4, CSI6, ELP6, FTS4, LEV...   \n",
       "1996-01-03  [BES4, CES3, CES4, CHA4, CSI6, ELP6, FTS4, LEV...   \n",
       "1996-01-04  [BES4, CES3, CES4, CHA4, CSI6, ELP6, FTS4, LEV...   \n",
       "\n",
       "                                                       ClsPrc  \n",
       "RptDt                                                          \n",
       "1996-01-02  [5.04, 23.0, 26.7, 0.16, 1.28, 46.0, 2.5, 10.7...  \n",
       "1996-01-03  [5.35, 24.0, 27.5, 0.17, 1.37, 54.0, 0.7, 10.7...  \n",
       "1996-01-04  [5.5, 22.0, 28.49, 0.17, 1.35, 153.5, 2.5, 7.2...  "
      ]
     },
     "metadata": {},
     "output_type": "display_data"
    }
   ],
   "source": [
    "data_frame.drop(['TckrLst', 'ClsPrc'], axis=1)\n",
    "data_frame['TckrLst'] = new_tickers\n",
    "data_frame['ClsPrc'] = new_prices\n",
    "display(data_frame.head(3))"
   ]
  },
  {
   "cell_type": "code",
   "execution_count": 105,
   "metadata": {},
   "outputs": [
    {
     "name": "stdout",
     "output_type": "stream",
     "text": [
      "Begin Date: 2010-12-28 00:00:00\n",
      "End Date: 2021-12-30 00:00:00\n"
     ]
    }
   ],
   "source": [
    "begin_date = pd.to_datetime('2010-12-28')\n",
    "#end_date = pd.to_datetime('2010-12-27')\n",
    "end_date = data_frame.index[-1]\n",
    "print(f'Begin Date: {begin_date}')\n",
    "print(f'End Date: {end_date}')"
   ]
  },
  {
   "cell_type": "code",
   "execution_count": 106,
   "metadata": {},
   "outputs": [],
   "source": [
    "window = 365"
   ]
  },
  {
   "cell_type": "code",
   "execution_count": 107,
   "metadata": {},
   "outputs": [],
   "source": [
    "#Capta os preços de acordo com os índices\n",
    "def prices_stocks (data_frame, index_stock, start, stop):\n",
    "    prices = []\n",
    "    count = 0\n",
    "    for k in range(data_frame.index.get_loc(start), data_frame.index.get_loc(stop)+1):\n",
    "        prices.append(data_frame.iloc[k][1][index_stock[count]])\n",
    "        count = count + 1\n",
    "    return prices"
   ]
  },
  {
   "cell_type": "code",
   "execution_count": 108,
   "metadata": {},
   "outputs": [],
   "source": [
    "#Estima as posições de cada ação nas listas de tickres no período de 1 ano\n",
    "def prices_to_estimation (data_frame, intersection, start, stop, stock):\n",
    "    index_stock = []\n",
    "    for j in range(data_frame.index.get_loc(start), data_frame.index.get_loc(stop)+1):\n",
    "        index_stock.append(data_frame.iloc[j][0].index(stock))\n",
    "    prices = prices_stocks(data_frame, index_stock, start, stop)\n",
    "    return prices"
   ]
  },
  {
   "cell_type": "code",
   "execution_count": 109,
   "metadata": {},
   "outputs": [],
   "source": [
    "#Encontra a interceção entre duas listas\n",
    "def common_elements (current_tickrs, previous_tickrs):\n",
    "    intersection = []\n",
    "    aux = []\n",
    "    for element in current_tickrs:\n",
    "        validation = [element in previous_tickrs[o] for o in range(len(previous_tickrs))]\n",
    "        if all(validation):\n",
    "            intersection.append(element)\n",
    "\n",
    "    return intersection"
   ]
  },
  {
   "cell_type": "code",
   "execution_count": 110,
   "metadata": {},
   "outputs": [],
   "source": [
    "def create_table (stocks_dataframe, id_table, name_db):\n",
    "    columnName = list(stocks_dataframe.columns)\n",
    "    columnDataType = ['FLOAT' for i in range (len(columnName))]\n",
    "    \n",
    "    #Código em sql para criar as colunas\n",
    "    createTableStatement = f'USE {name_db} \\n CREATE TABLE Table{id_table} ('\n",
    "    for i in range(len(columnDataType)):\n",
    "        createTableStatement = createTableStatement + '\\n' + columnName[i] + ' ' + columnDataType[i] + ','\n",
    "    createTableStatement = createTableStatement[:-1] + ' );'\n",
    "\n",
    "    #Código em sql para inserir valores nas colunas\n",
    "    InsertValuesTable = f'INSERT INTO Table{id_table}('\n",
    "\n",
    "    for i in range(len(columnName)):\n",
    "        InsertValuesTable = InsertValuesTable + columnName[i] + ',' + ' '\n",
    "    InsertValuesTable = InsertValuesTable[:-2] + ')\\n VALUES'\n",
    "    subset = stocks_dataframe[list(stocks_dataframe.columns)]\n",
    "    tuples = [tuple(x) for x in subset.to_numpy()]\n",
    "    values_rows = '('\n",
    "    for numeric in tuples[0]:\n",
    "        values_rows = values_rows + str(numeric) + ',' + ' '\n",
    "    values_rows = values_rows[:-2] + ')' + ',' + '\\n'\n",
    "    for i in range(1, len(tuples)-1):\n",
    "        values_rows = values_rows + '('\n",
    "        for numeric in tuples[i]:\n",
    "            values_rows = values_rows + str(numeric) + ',' + ' '\n",
    "        values_rows = values_rows[:-2] + ')' + ',' + '\\n'\n",
    "    values_rows = values_rows + '('\n",
    "    for numeric in tuples[-1]:\n",
    "        values_rows = values_rows + str(numeric) + ',' + ' '\n",
    "    values_rows = values_rows[:-2] + ')' + '\\n'\n",
    "    \n",
    "    cursor.execute(createTableStatement + InsertValuesTable + values_rows)\n",
    "    cnxn.commit()"
   ]
  },
  {
   "cell_type": "code",
   "execution_count": 111,
   "metadata": {},
   "outputs": [
    {
     "name": "stderr",
     "output_type": "stream",
     "text": [
      "elementos comuns: 100%|██████████████████████████████████████████████████████████| 4021/4021 [5:57:51<00:00,  5.34s/it]\n"
     ]
    }
   ],
   "source": [
    "for i in tqdm(range(data_frame.index.get_loc(begin_date), data_frame.index.get_loc(end_date)+1),\\\n",
    "              position=0, leave=True, desc = 'elementos comuns'):\n",
    "    start = data_frame.index[i] -  timedelta(days=window)\n",
    "    stop = data_frame.index[i]\n",
    "    \n",
    "    current_tickrs = data_frame.loc[stop]['TckrLst']\n",
    "    previous_tickrs = data_frame.loc[start:stop]['TckrLst'].tolist()\n",
    "    \n",
    "    intersection = common_elements(current_tickrs, previous_tickrs)\n",
    "    intersection = list(set(intersection))\n",
    "    if len(intersection) !=0:\n",
    "        all_prices = []\n",
    "        for stock in intersection:\n",
    "            prices = prices_to_estimation (data_frame, intersection, start, stop, stock)\n",
    "            all_prices.append(prices)\n",
    "\n",
    "        stocks_dataframe = pd.DataFrame(np.array(all_prices).T, columns=intersection)\n",
    "        create_table(stocks_dataframe, i, name_db)\n",
    "\n"
   ]
  }
 ],
 "metadata": {
  "kernelspec": {
   "display_name": "Python 3",
   "language": "python",
   "name": "python3"
  },
  "language_info": {
   "codemirror_mode": {
    "name": "ipython",
    "version": 3
   },
   "file_extension": ".py",
   "mimetype": "text/x-python",
   "name": "python",
   "nbconvert_exporter": "python",
   "pygments_lexer": "ipython3",
   "version": "3.8.5"
  }
 },
 "nbformat": 4,
 "nbformat_minor": 4
}
