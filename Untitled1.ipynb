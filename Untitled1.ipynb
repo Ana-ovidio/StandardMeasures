{
 "cells": [
  {
   "cell_type": "code",
   "execution_count": 64,
   "metadata": {},
   "outputs": [],
   "source": [
    "import pyodbc\n",
    "import numpy as np\n",
    "import pandas as pd\n",
    "from tqdm import tqdm"
   ]
  },
  {
   "cell_type": "code",
   "execution_count": 65,
   "metadata": {},
   "outputs": [],
   "source": [
    "name_db = 'IndexDataBase'\n",
    "\n",
    "data_conection = (\"Driver={SQL Server};\"\n",
    "                 \"Server=DESKTOP-0EKP870;\"\n",
    "                 f\"Database={name_db};\")\n",
    "cnxn = pyodbc.connect(data_conection)"
   ]
  },
  {
   "cell_type": "code",
   "execution_count": 66,
   "metadata": {},
   "outputs": [],
   "source": [
    "informationsTables = f'''\n",
    "SELECT * FROM INFORMATION_SCHEMA.TABLES\n",
    "'''\n",
    "informations_tables_df = pd.read_sql(informationsTables, cnxn)"
   ]
  },
  {
   "cell_type": "code",
   "execution_count": 67,
   "metadata": {},
   "outputs": [],
   "source": [
    "names = informations_tables_df['TABLE_NAME'].tolist()"
   ]
  },
  {
   "cell_type": "code",
   "execution_count": 68,
   "metadata": {},
   "outputs": [],
   "source": [
    "for i, name in enumerate(names):\n",
    "    names[i] = int(name[5:])"
   ]
  },
  {
   "cell_type": "code",
   "execution_count": 69,
   "metadata": {},
   "outputs": [],
   "source": [
    "names_orderned = sorted(names)\n",
    "for i, name in enumerate(names_orderned):\n",
    "    names_orderned[i] = 'Table'+str(name)"
   ]
  },
  {
   "cell_type": "code",
   "execution_count": 70,
   "metadata": {},
   "outputs": [],
   "source": [
    "def estimation (data_frame):\n",
    "    all_cov = []\n",
    "    all_corr = []\n",
    "    for i, column in enumerate(data_frame.columns):\n",
    "        x = data_frame[column]\n",
    "        next_columns = data_frame.columns[i+1:]\n",
    "        for next_column in next_columns:\n",
    "            y = data_frame[next_column]\n",
    "            \n",
    "            cov_matrix = np.cov(x, y)\n",
    "            cov = cov_matrix[0][-1]\n",
    "            all_cov.append(cov)\n",
    "            \n",
    "            corr_matrix = np.corrcoef(x, y)\n",
    "            corr = corr_matrix[0][-1]\n",
    "            all_corr.append(corr_matrix)\n",
    "            \n",
    "    return np.mean(all_cov), np.mean(all_corr)"
   ]
  },
  {
   "cell_type": "code",
   "execution_count": 71,
   "metadata": {},
   "outputs": [
    {
     "name": "stderr",
     "output_type": "stream",
     "text": [
      "  0%|                                                                                         | 0/8515 [00:00<?, ?it/s]\n"
     ]
    }
   ],
   "source": [
    "for name_table in tqdm(names_orderned):\n",
    "    ImportTable = f'''\n",
    "    SELECT * FROM {name_table}\n",
    "    '''\n",
    "    stocks_frame = pd.read_sql(ImportTable, cnxn)\n",
    "    all_cov, all_corr = estimation (stocks_frame)\n",
    "    break"
   ]
  },
  {
   "cell_type": "code",
   "execution_count": 72,
   "metadata": {},
   "outputs": [
    {
     "data": {
      "text/plain": [
       "1796.4759574231462"
      ]
     },
     "execution_count": 72,
     "metadata": {},
     "output_type": "execute_result"
    }
   ],
   "source": [
    "all_cov"
   ]
  },
  {
   "cell_type": "code",
   "execution_count": null,
   "metadata": {},
   "outputs": [],
   "source": []
  }
 ],
 "metadata": {
  "kernelspec": {
   "display_name": "Python 3",
   "language": "python",
   "name": "python3"
  },
  "language_info": {
   "codemirror_mode": {
    "name": "ipython",
    "version": 3
   },
   "file_extension": ".py",
   "mimetype": "text/x-python",
   "name": "python",
   "nbconvert_exporter": "python",
   "pygments_lexer": "ipython3",
   "version": "3.8.5"
  }
 },
 "nbformat": 4,
 "nbformat_minor": 4
}
