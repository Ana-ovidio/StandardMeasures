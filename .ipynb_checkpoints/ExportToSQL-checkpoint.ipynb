{
 "cells": [
  {
   "cell_type": "code",
   "execution_count": 72,
   "metadata": {},
   "outputs": [],
   "source": [
    "import pandas as pd\n",
    "import numpy as np\n",
    "import pyodbc\n",
    "from datetime import timedelta\n",
    "from tqdm import tqdm\n",
    "from scipy.stats import pearsonr"
   ]
  },
  {
   "cell_type": "code",
   "execution_count": 73,
   "metadata": {},
   "outputs": [],
   "source": [
    "name_db = 'IndexDataBase'\n",
    "\n",
    "data_conection = (\"Driver={SQL Server};\"\n",
    "                 \"Server=DESKTOP-0EKP870;\"\n",
    "                 f\"Database={name_db};\")\n",
    "cnxn = pyodbc.connect(data_conection)\n",
    "cursor = cnxn.cursor()"
   ]
  },
  {
   "cell_type": "code",
   "execution_count": 74,
   "metadata": {
    "scrolled": true
   },
   "outputs": [
    {
     "data": {
      "text/html": [
       "<div>\n",
       "<style scoped>\n",
       "    .dataframe tbody tr th:only-of-type {\n",
       "        vertical-align: middle;\n",
       "    }\n",
       "\n",
       "    .dataframe tbody tr th {\n",
       "        vertical-align: top;\n",
       "    }\n",
       "\n",
       "    .dataframe thead th {\n",
       "        text-align: right;\n",
       "    }\n",
       "</style>\n",
       "<table border=\"1\" class=\"dataframe\">\n",
       "  <thead>\n",
       "    <tr style=\"text-align: right;\">\n",
       "      <th></th>\n",
       "      <th>TckrLst</th>\n",
       "      <th>ClsPrc</th>\n",
       "      <th>NmbrOfStcks</th>\n",
       "    </tr>\n",
       "    <tr>\n",
       "      <th>RptDt</th>\n",
       "      <th></th>\n",
       "      <th></th>\n",
       "      <th></th>\n",
       "    </tr>\n",
       "  </thead>\n",
       "  <tbody>\n",
       "    <tr>\n",
       "      <th>1997-09-06</th>\n",
       "      <td>['ACE1', 'ACE2', 'ALP3', 'ALP4', 'ANH1', 'ANO5...</td>\n",
       "      <td>[9.0, 4.3, 435.0, 370.01, 8.51, 7.0, 590.0, 24...</td>\n",
       "      <td>128</td>\n",
       "    </tr>\n",
       "    <tr>\n",
       "      <th>1997-09-07</th>\n",
       "      <td>['ACE1', 'ACE2', 'ALP3', 'ALP4', 'ANH1', 'ANO5...</td>\n",
       "      <td>[9.0, 4.8, 435.0, 379.99, 10.5, 7.0, 850.0, 26...</td>\n",
       "      <td>127</td>\n",
       "    </tr>\n",
       "    <tr>\n",
       "      <th>1997-09-08</th>\n",
       "      <td>['ACE1', 'ACE2', 'ALP3', 'ALP4', 'ANH1', 'ANO5...</td>\n",
       "      <td>[10.0, 5.3, 450.0, 386.0, 10.5, 7.0, 650.0, 28...</td>\n",
       "      <td>127</td>\n",
       "    </tr>\n",
       "  </tbody>\n",
       "</table>\n",
       "</div>"
      ],
      "text/plain": [
       "                                                      TckrLst  \\\n",
       "RptDt                                                           \n",
       "1997-09-06  ['ACE1', 'ACE2', 'ALP3', 'ALP4', 'ANH1', 'ANO5...   \n",
       "1997-09-07  ['ACE1', 'ACE2', 'ALP3', 'ALP4', 'ANH1', 'ANO5...   \n",
       "1997-09-08  ['ACE1', 'ACE2', 'ALP3', 'ALP4', 'ANH1', 'ANO5...   \n",
       "\n",
       "                                                       ClsPrc  NmbrOfStcks  \n",
       "RptDt                                                                       \n",
       "1997-09-06  [9.0, 4.3, 435.0, 370.01, 8.51, 7.0, 590.0, 24...          128  \n",
       "1997-09-07  [9.0, 4.8, 435.0, 379.99, 10.5, 7.0, 850.0, 26...          127  \n",
       "1997-09-08  [10.0, 5.3, 450.0, 386.0, 10.5, 7.0, 650.0, 28...          127  "
      ]
     },
     "metadata": {},
     "output_type": "display_data"
    }
   ],
   "source": [
    "data_frame = pd.read_excel(r'data/StocksFrameIBOV.xlsx')\n",
    "data_frame = data_frame.set_index('RptDt')\n",
    "display(data_frame.head(3))"
   ]
  },
  {
   "cell_type": "markdown",
   "metadata": {},
   "source": [
    "------------\n",
    "**Tratamento dos dados**"
   ]
  },
  {
   "cell_type": "code",
   "execution_count": 75,
   "metadata": {
    "scrolled": true
   },
   "outputs": [
    {
     "name": "stderr",
     "output_type": "stream",
     "text": [
      "100%|████████████████████████████████████████████████████████████████████████████| 8881/8881 [00:03<00:00, 2636.67it/s]\n"
     ]
    }
   ],
   "source": [
    "new_tickers = []\n",
    "for i in tqdm(range(len(data_frame)), position=0, leave=True):\n",
    "    df_to_list = data_frame.iloc[i][0].split(',')\n",
    "    df_to_list[0] = df_to_list[0].replace('[',' ')\n",
    "    df_to_list[-1] = df_to_list[-1].replace(']','')\n",
    "    for j, element in enumerate(df_to_list):\n",
    "        df_to_list[j] = element.replace(' ', '')\n",
    "        df_to_list[j] = df_to_list[j][1:len(df_to_list[j])-1]\n",
    "    new_tickers.append(df_to_list)"
   ]
  },
  {
   "cell_type": "code",
   "execution_count": 76,
   "metadata": {},
   "outputs": [
    {
     "name": "stderr",
     "output_type": "stream",
     "text": [
      "100%|████████████████████████████████████████████████████████████████████████████| 8881/8881 [00:03<00:00, 2598.99it/s]\n"
     ]
    }
   ],
   "source": [
    "new_prices = []\n",
    "for i in tqdm(range(len(data_frame)), position=0, leave=True):\n",
    "    df_to_list = data_frame.iloc[i][1].split(',')\n",
    "    df_to_list[0] = df_to_list[0].replace('[',' ')\n",
    "    df_to_list[-1] = df_to_list[-1].replace(']','')\n",
    "    for j, element in enumerate(df_to_list):\n",
    "        df_to_list[j] = element.replace(' ', '')\n",
    "        df_to_list[j] = float(df_to_list[j])\n",
    "    new_prices.append(df_to_list)"
   ]
  },
  {
   "cell_type": "code",
   "execution_count": 77,
   "metadata": {
    "scrolled": true
   },
   "outputs": [
    {
     "data": {
      "text/html": [
       "<div>\n",
       "<style scoped>\n",
       "    .dataframe tbody tr th:only-of-type {\n",
       "        vertical-align: middle;\n",
       "    }\n",
       "\n",
       "    .dataframe tbody tr th {\n",
       "        vertical-align: top;\n",
       "    }\n",
       "\n",
       "    .dataframe thead th {\n",
       "        text-align: right;\n",
       "    }\n",
       "</style>\n",
       "<table border=\"1\" class=\"dataframe\">\n",
       "  <thead>\n",
       "    <tr style=\"text-align: right;\">\n",
       "      <th></th>\n",
       "      <th>TckrLst</th>\n",
       "      <th>ClsPrc</th>\n",
       "      <th>NmbrOfStcks</th>\n",
       "    </tr>\n",
       "    <tr>\n",
       "      <th>RptDt</th>\n",
       "      <th></th>\n",
       "      <th></th>\n",
       "      <th></th>\n",
       "    </tr>\n",
       "  </thead>\n",
       "  <tbody>\n",
       "    <tr>\n",
       "      <th>1997-09-06</th>\n",
       "      <td>[ACE1, ACE2, ALP3, ALP4, ANH1, ANO5, ART2, AVI...</td>\n",
       "      <td>[9.0, 4.3, 435.0, 370.01, 8.51, 7.0, 590.0, 24...</td>\n",
       "      <td>128</td>\n",
       "    </tr>\n",
       "    <tr>\n",
       "      <th>1997-09-07</th>\n",
       "      <td>[ACE1, ACE2, ALP3, ALP4, ANH1, ANO5, ART2, AVI...</td>\n",
       "      <td>[9.0, 4.8, 435.0, 379.99, 10.5, 7.0, 850.0, 26...</td>\n",
       "      <td>127</td>\n",
       "    </tr>\n",
       "    <tr>\n",
       "      <th>1997-09-08</th>\n",
       "      <td>[ACE1, ACE2, ALP3, ALP4, ANH1, ANO5, ART2, AVI...</td>\n",
       "      <td>[10.0, 5.3, 450.0, 386.0, 10.5, 7.0, 650.0, 28...</td>\n",
       "      <td>127</td>\n",
       "    </tr>\n",
       "  </tbody>\n",
       "</table>\n",
       "</div>"
      ],
      "text/plain": [
       "                                                      TckrLst  \\\n",
       "RptDt                                                           \n",
       "1997-09-06  [ACE1, ACE2, ALP3, ALP4, ANH1, ANO5, ART2, AVI...   \n",
       "1997-09-07  [ACE1, ACE2, ALP3, ALP4, ANH1, ANO5, ART2, AVI...   \n",
       "1997-09-08  [ACE1, ACE2, ALP3, ALP4, ANH1, ANO5, ART2, AVI...   \n",
       "\n",
       "                                                       ClsPrc  NmbrOfStcks  \n",
       "RptDt                                                                       \n",
       "1997-09-06  [9.0, 4.3, 435.0, 370.01, 8.51, 7.0, 590.0, 24...          128  \n",
       "1997-09-07  [9.0, 4.8, 435.0, 379.99, 10.5, 7.0, 850.0, 26...          127  \n",
       "1997-09-08  [10.0, 5.3, 450.0, 386.0, 10.5, 7.0, 650.0, 28...          127  "
      ]
     },
     "metadata": {},
     "output_type": "display_data"
    }
   ],
   "source": [
    "data_frame.drop(['TckrLst', 'ClsPrc'], axis=1)\n",
    "data_frame['TckrLst'] = new_tickers\n",
    "data_frame['ClsPrc'] = new_prices\n",
    "display(data_frame.head(3))"
   ]
  },
  {
   "cell_type": "markdown",
   "metadata": {},
   "source": [
    "-----------\n",
    "**Intervalo de dias nos quais iremos estimar a correlação**"
   ]
  },
  {
   "cell_type": "code",
   "execution_count": 78,
   "metadata": {},
   "outputs": [
    {
     "name": "stdout",
     "output_type": "stream",
     "text": [
      "Begin Date: 2005-11-17 00:00:00\n",
      "End Date: 2021-12-29 00:00:00\n"
     ]
    }
   ],
   "source": [
    "begin_date = pd.to_datetime('2005-11-17')\n",
    "end_date = data_frame.index[-1]\n",
    "print(f'Begin Date: {begin_date}')\n",
    "print(f'End Date: {end_date}')"
   ]
  },
  {
   "cell_type": "code",
   "execution_count": 79,
   "metadata": {},
   "outputs": [],
   "source": [
    "window = 365"
   ]
  },
  {
   "cell_type": "code",
   "execution_count": 80,
   "metadata": {},
   "outputs": [],
   "source": [
    "#Capta os preços de acordo com os índices\n",
    "def prices_stocks (data_frame, index_stock, start, stop):\n",
    "    prices = []\n",
    "    count = 0\n",
    "    for k in range(data_frame.index.get_loc(start), data_frame.index.get_loc(stop)+1):\n",
    "        prices.append(data_frame.iloc[k][1][index_stock[count]])\n",
    "        count = count + 1\n",
    "    return prices"
   ]
  },
  {
   "cell_type": "code",
   "execution_count": 81,
   "metadata": {},
   "outputs": [],
   "source": [
    "#Estima as posições de cada ação nas listas de tickres no período de 1 ano\n",
    "def prices_to_estimation (data_frame, intersection, start, stop, stock):\n",
    "    index_stock = []\n",
    "    for j in range(data_frame.index.get_loc(start), data_frame.index.get_loc(stop)+1):\n",
    "        index_stock.append(data_frame.iloc[j][0].index(stock))\n",
    "    prices = prices_stocks(data_frame, index_stock, start, stop)\n",
    "    return prices"
   ]
  },
  {
   "cell_type": "code",
   "execution_count": 82,
   "metadata": {},
   "outputs": [],
   "source": [
    "#Encontra a interceção entre duas listas\n",
    "def common_elements (current_tickrs, previous_tickrs):\n",
    "    intersection = []\n",
    "    aux = []\n",
    "    for element in current_tickrs:\n",
    "        validation = [element in previous_tickrs[o] for o in range(len(previous_tickrs))]\n",
    "        if all(validation):\n",
    "            intersection.append(element)\n",
    "\n",
    "    return intersection"
   ]
  },
  {
   "cell_type": "code",
   "execution_count": 83,
   "metadata": {},
   "outputs": [],
   "source": [
    "def create_table (stocks_dataframe, id_table, name_db):\n",
    "    columnName = list(stocks_dataframe.columns)\n",
    "    columnDataType = ['FLOAT' for i in range (len(columnName))]\n",
    "    \n",
    "    #Código em sql para criar as colunas\n",
    "    createTableStatement = f'USE {name_db} \\n CREATE TABLE Table{id_table} ('\n",
    "    for i in range(len(columnDataType)):\n",
    "        createTableStatement = createTableStatement + '\\n' + columnName[i] + ' ' + columnDataType[i] + ','\n",
    "    createTableStatement = createTableStatement[:-1] + ' );'\n",
    "\n",
    "    #Código em sql para inserir valores nas colunas\n",
    "    InsertValuesTable = f'INSERT INTO Table{id_table}('\n",
    "\n",
    "    for i in range(len(columnName)):\n",
    "        InsertValuesTable = InsertValuesTable + columnName[i] + ',' + ' '\n",
    "    InsertValuesTable = InsertValuesTable[:-2] + ')\\n VALUES'\n",
    "    subset = stocks_dataframe[list(stocks_dataframe.columns)]\n",
    "    tuples = [tuple(x) for x in subset.to_numpy()]\n",
    "    values_rows = '('\n",
    "    for numeric in tuples[0]:\n",
    "        values_rows = values_rows + str(numeric) + ',' + ' '\n",
    "    values_rows = values_rows[:-2] + ')' + ',' + '\\n'\n",
    "    for i in range(1, len(tuples)-1):\n",
    "        values_rows = values_rows + '('\n",
    "        for numeric in tuples[i]:\n",
    "            values_rows = values_rows + str(numeric) + ',' + ' '\n",
    "        values_rows = values_rows[:-2] + ')' + ',' + '\\n'\n",
    "    values_rows = values_rows + '('\n",
    "    for numeric in tuples[-1]:\n",
    "        values_rows = values_rows + str(numeric) + ',' + ' '\n",
    "    values_rows = values_rows[:-2] + ')' + '\\n'\n",
    "    \n",
    "    cursor.execute(createTableStatement + InsertValuesTable + values_rows)\n",
    "    cnxn.commit()"
   ]
  },
  {
   "cell_type": "code",
   "execution_count": 84,
   "metadata": {
    "scrolled": true
   },
   "outputs": [
    {
     "name": "stderr",
     "output_type": "stream",
     "text": [
      "elementos comuns: 100%|█████████████████████████████████████████████████████████| 5887/5887 [16:45:50<00:00, 10.25s/it]\n"
     ]
    }
   ],
   "source": [
    "for i in tqdm(range(data_frame.index.get_loc(begin_date), data_frame.index.get_loc(end_date)+1),\\\n",
    "              position=0, leave=True, desc = 'elementos comuns'):\n",
    "    \n",
    "    start = data_frame.index[i] -  timedelta(days=window)\n",
    "    stop = data_frame.index[i]\n",
    "    \n",
    "    current_tickrs = data_frame.loc[stop]['TckrLst']\n",
    "    previous_tickrs = data_frame.loc[start:stop]['TckrLst'].tolist()\n",
    "    \n",
    "    intersection = common_elements(current_tickrs, previous_tickrs)\n",
    "    if len(intersection) !=0:\n",
    "        all_prices = []\n",
    "        for stock in intersection:\n",
    "            prices = prices_to_estimation (data_frame, intersection, start, stop, stock)\n",
    "            all_prices.append(prices)\n",
    "\n",
    "        stocks_dataframe = pd.DataFrame(np.array(all_prices).T, columns=intersection)\n",
    "        create_table(stocks_dataframe, i, name_db)\n",
    "    \n"
   ]
  },
  {
   "cell_type": "markdown",
   "metadata": {},
   "source": [
    "data_frame.index[2992]"
   ]
  }
 ],
 "metadata": {
  "kernelspec": {
   "display_name": "Python 3",
   "language": "python",
   "name": "python3"
  },
  "language_info": {
   "codemirror_mode": {
    "name": "ipython",
    "version": 3
   },
   "file_extension": ".py",
   "mimetype": "text/x-python",
   "name": "python",
   "nbconvert_exporter": "python",
   "pygments_lexer": "ipython3",
   "version": "3.8.5"
  }
 },
 "nbformat": 4,
 "nbformat_minor": 4
}
