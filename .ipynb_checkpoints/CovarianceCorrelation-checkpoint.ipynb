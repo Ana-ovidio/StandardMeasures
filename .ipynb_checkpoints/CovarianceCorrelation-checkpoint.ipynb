{
 "cells": [
  {
   "cell_type": "code",
   "execution_count": 1,
   "metadata": {},
   "outputs": [],
   "source": [
    "import pyodbc\n",
    "import numpy as np\n",
    "import pandas as pd\n",
    "from tqdm import tqdm"
   ]
  },
  {
   "cell_type": "code",
   "execution_count": 2,
   "metadata": {},
   "outputs": [],
   "source": [
    "name_db = 'IndexDataBase'\n",
    "\n",
    "data_conection = (\"Driver={SQL Server};\"\n",
    "                 \"Server=DESKTOP-0EKP870;\"\n",
    "                 f\"Database={name_db};\")\n",
    "cnxn = pyodbc.connect(data_conection)"
   ]
  },
  {
   "cell_type": "markdown",
   "metadata": {},
   "source": [
    "------------\n",
    "**Importação dos nomes das tabelas**"
   ]
  },
  {
   "cell_type": "code",
   "execution_count": 3,
   "metadata": {},
   "outputs": [],
   "source": [
    "informationsTables = f'''\n",
    "SELECT * FROM INFORMATION_SCHEMA.TABLES\n",
    "'''\n",
    "informations_tables_df = pd.read_sql(informationsTables, cnxn)"
   ]
  },
  {
   "cell_type": "code",
   "execution_count": 4,
   "metadata": {
    "scrolled": false
   },
   "outputs": [
    {
     "data": {
      "text/html": [
       "<div>\n",
       "<style scoped>\n",
       "    .dataframe tbody tr th:only-of-type {\n",
       "        vertical-align: middle;\n",
       "    }\n",
       "\n",
       "    .dataframe tbody tr th {\n",
       "        vertical-align: top;\n",
       "    }\n",
       "\n",
       "    .dataframe thead th {\n",
       "        text-align: right;\n",
       "    }\n",
       "</style>\n",
       "<table border=\"1\" class=\"dataframe\">\n",
       "  <thead>\n",
       "    <tr style=\"text-align: right;\">\n",
       "      <th></th>\n",
       "      <th>TABLE_CATALOG</th>\n",
       "      <th>TABLE_SCHEMA</th>\n",
       "      <th>TABLE_NAME</th>\n",
       "      <th>TABLE_TYPE</th>\n",
       "    </tr>\n",
       "  </thead>\n",
       "  <tbody>\n",
       "    <tr>\n",
       "      <th>0</th>\n",
       "      <td>IndexDataBase</td>\n",
       "      <td>dbo</td>\n",
       "      <td>Table3373</td>\n",
       "      <td>BASE TABLE</td>\n",
       "    </tr>\n",
       "    <tr>\n",
       "      <th>1</th>\n",
       "      <td>IndexDataBase</td>\n",
       "      <td>dbo</td>\n",
       "      <td>Table6460</td>\n",
       "      <td>BASE TABLE</td>\n",
       "    </tr>\n",
       "    <tr>\n",
       "      <th>2</th>\n",
       "      <td>IndexDataBase</td>\n",
       "      <td>dbo</td>\n",
       "      <td>Table1135</td>\n",
       "      <td>BASE TABLE</td>\n",
       "    </tr>\n",
       "  </tbody>\n",
       "</table>\n",
       "</div>"
      ],
      "text/plain": [
       "   TABLE_CATALOG TABLE_SCHEMA TABLE_NAME  TABLE_TYPE\n",
       "0  IndexDataBase          dbo  Table3373  BASE TABLE\n",
       "1  IndexDataBase          dbo  Table6460  BASE TABLE\n",
       "2  IndexDataBase          dbo  Table1135  BASE TABLE"
      ]
     },
     "metadata": {},
     "output_type": "display_data"
    }
   ],
   "source": [
    "display(informations_tables_df.head(3))"
   ]
  },
  {
   "cell_type": "markdown",
   "metadata": {},
   "source": [
    "---------\n",
    "**Ordenando os dados referentes aos nomes**"
   ]
  },
  {
   "cell_type": "code",
   "execution_count": 5,
   "metadata": {},
   "outputs": [],
   "source": [
    "names = informations_tables_df['TABLE_NAME'].tolist()"
   ]
  },
  {
   "cell_type": "code",
   "execution_count": 6,
   "metadata": {},
   "outputs": [],
   "source": [
    "for i, name in enumerate(names):\n",
    "    names[i] = int(name[5:])"
   ]
  },
  {
   "cell_type": "code",
   "execution_count": 7,
   "metadata": {},
   "outputs": [],
   "source": [
    "names_orderned = sorted(names)\n",
    "for i, name in enumerate(names_orderned):\n",
    "    names_orderned[i] = 'Table'+str(name)"
   ]
  },
  {
   "cell_type": "code",
   "execution_count": 8,
   "metadata": {},
   "outputs": [],
   "source": [
    "def values_from_matrix (matrix):\n",
    "    valeus_outside_diagonal = []\n",
    "    for i, dataset in enumerate(matrix):\n",
    "        for j in range(i):\n",
    "            valeus_outside_diagonal.append(dataset[j])\n",
    "    return valeus_outside_diagonal"
   ]
  },
  {
   "cell_type": "code",
   "execution_count": 9,
   "metadata": {},
   "outputs": [],
   "source": [
    "def estimate_covariance (stocks_frame):\n",
    "    list_prices = []\n",
    "    for column in stocks_frame.columns:\n",
    "        list_prices.append(stocks_frame.iloc[:][column].tolist())\n",
    "    matrix_prices = np.array(list_prices)\n",
    "    \n",
    "    cov_matrix = np.cov(matrix_prices,bias=True)\n",
    "    corr_matrix = np.corrcoef(matrix_prices)\n",
    "    \n",
    "    mean_cov = np.mean(values_from_matrix (cov_matrix))\n",
    "    mean_corr = np.mean(values_from_matrix (corr_matrix))\n",
    "    return mean_cov, mean_corr"
   ]
  },
  {
   "cell_type": "code",
   "execution_count": 10,
   "metadata": {
    "scrolled": true
   },
   "outputs": [
    {
     "name": "stderr",
     "output_type": "stream",
     "text": [
      "100%|██████████████████████████████████████████████████████████████████████████████| 8150/8150 [02:44<00:00, 49.50it/s]\n"
     ]
    }
   ],
   "source": [
    "all_cov_mean = []\n",
    "all_corr_mean = []\n",
    "for name_table in tqdm(names_orderned):\n",
    "    ImportTable = f'''\n",
    "    SELECT * FROM {name_table}\n",
    "    '''\n",
    "    stocks_frame = pd.read_sql(ImportTable, cnxn)\n",
    "    mean_cov, mean_corr = estimate_covariance (stocks_frame)\n",
    "    all_cov_mean.append(mean_cov)\n",
    "    all_corr_mean.append(mean_corr)"
   ]
  },
  {
   "cell_type": "code",
   "execution_count": 11,
   "metadata": {
    "scrolled": false
   },
   "outputs": [
    {
     "data": {
      "text/html": [
       "<div>\n",
       "<style scoped>\n",
       "    .dataframe tbody tr th:only-of-type {\n",
       "        vertical-align: middle;\n",
       "    }\n",
       "\n",
       "    .dataframe tbody tr th {\n",
       "        vertical-align: top;\n",
       "    }\n",
       "\n",
       "    .dataframe thead th {\n",
       "        text-align: right;\n",
       "    }\n",
       "</style>\n",
       "<table border=\"1\" class=\"dataframe\">\n",
       "  <thead>\n",
       "    <tr style=\"text-align: right;\">\n",
       "      <th></th>\n",
       "      <th>Covariance</th>\n",
       "      <th>Correlation</th>\n",
       "    </tr>\n",
       "  </thead>\n",
       "  <tbody>\n",
       "    <tr>\n",
       "      <th>0</th>\n",
       "      <td>1791.567553</td>\n",
       "      <td>0.288998</td>\n",
       "    </tr>\n",
       "    <tr>\n",
       "      <th>1</th>\n",
       "      <td>1788.359821</td>\n",
       "      <td>0.289429</td>\n",
       "    </tr>\n",
       "    <tr>\n",
       "      <th>2</th>\n",
       "      <td>1789.219188</td>\n",
       "      <td>0.290246</td>\n",
       "    </tr>\n",
       "  </tbody>\n",
       "</table>\n",
       "</div>"
      ],
      "text/plain": [
       "    Covariance  Correlation\n",
       "0  1791.567553     0.288998\n",
       "1  1788.359821     0.289429\n",
       "2  1789.219188     0.290246"
      ]
     },
     "execution_count": 11,
     "metadata": {},
     "output_type": "execute_result"
    }
   ],
   "source": [
    "df_covariance = pd.DataFrame(list(zip(all_cov_mean, all_corr_mean)), columns=['Covariance',                                                                            'Correlation'])\n",
    "df_covariance.head(3)"
   ]
  },
  {
   "cell_type": "code",
   "execution_count": 12,
   "metadata": {},
   "outputs": [],
   "source": [
    "df_covariance.to_excel(r'data/CovarianceCorrelation.xlsx')"
   ]
  }
 ],
 "metadata": {
  "kernelspec": {
   "display_name": "Python 3",
   "language": "python",
   "name": "python3"
  },
  "language_info": {
   "codemirror_mode": {
    "name": "ipython",
    "version": 3
   },
   "file_extension": ".py",
   "mimetype": "text/x-python",
   "name": "python",
   "nbconvert_exporter": "python",
   "pygments_lexer": "ipython3",
   "version": "3.8.5"
  }
 },
 "nbformat": 4,
 "nbformat_minor": 4
}
