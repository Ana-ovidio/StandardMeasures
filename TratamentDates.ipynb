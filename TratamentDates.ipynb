{
 "cells": [
  {
   "cell_type": "code",
   "execution_count": 1,
   "metadata": {},
   "outputs": [],
   "source": [
    "import pandas as pd\n",
    "import numpy as np\n",
    "from datetime import timedelta\n",
    "from tqdm import tqdm"
   ]
  },
  {
   "cell_type": "code",
   "execution_count": 2,
   "metadata": {
    "scrolled": true
   },
   "outputs": [
    {
     "data": {
      "text/html": [
       "<div>\n",
       "<style scoped>\n",
       "    .dataframe tbody tr th:only-of-type {\n",
       "        vertical-align: middle;\n",
       "    }\n",
       "\n",
       "    .dataframe tbody tr th {\n",
       "        vertical-align: top;\n",
       "    }\n",
       "\n",
       "    .dataframe thead th {\n",
       "        text-align: right;\n",
       "    }\n",
       "</style>\n",
       "<table border=\"1\" class=\"dataframe\">\n",
       "  <thead>\n",
       "    <tr style=\"text-align: right;\">\n",
       "      <th></th>\n",
       "      <th>RptDt</th>\n",
       "      <th>TckrLst</th>\n",
       "      <th>ClsPrc</th>\n",
       "    </tr>\n",
       "  </thead>\n",
       "  <tbody>\n",
       "    <tr>\n",
       "      <th>0</th>\n",
       "      <td>1996-01-02</td>\n",
       "      <td>['BES 4', 'CES 3', 'CES 4', 'CHA 4', 'CSI 6', ...</td>\n",
       "      <td>[5.04, 23.0, 26.7, 0.16, 1.28, 46.0, 2.5, 10.7...</td>\n",
       "    </tr>\n",
       "    <tr>\n",
       "      <th>1</th>\n",
       "      <td>1996-01-03</td>\n",
       "      <td>['BES 4', 'CES 3', 'CES 4', 'CHA 4', 'CSI 6', ...</td>\n",
       "      <td>[5.35, 24.0, 27.5, 0.17, 1.37, 54.0, 0.7, 10.7...</td>\n",
       "    </tr>\n",
       "    <tr>\n",
       "      <th>2</th>\n",
       "      <td>1996-01-04</td>\n",
       "      <td>['BES 4', 'CES 3', 'CES 4', 'CHA 4', 'CSI 6', ...</td>\n",
       "      <td>[5.5, 22.0, 28.49, 0.17, 1.35, 153.5, 2.5, 7.2...</td>\n",
       "    </tr>\n",
       "    <tr>\n",
       "      <th>3</th>\n",
       "      <td>1996-01-05</td>\n",
       "      <td>['BES 4', 'CES 3', 'CES 4', 'CHA 4', 'CSI 6', ...</td>\n",
       "      <td>[5.5, 20.49, 27.99, 0.19, 1.34, 153.5, 2.5, 10...</td>\n",
       "    </tr>\n",
       "    <tr>\n",
       "      <th>4</th>\n",
       "      <td>1996-01-08</td>\n",
       "      <td>['BES 4', 'CES 3', 'CES 4', 'CHA 4', 'CSI 6', ...</td>\n",
       "      <td>[5.45, 20.29, 27.5, 0.19, 1.31, 153.5, 0.7, 10...</td>\n",
       "    </tr>\n",
       "    <tr>\n",
       "      <th>5</th>\n",
       "      <td>1996-01-09</td>\n",
       "      <td>['BES 4', 'CES 3', 'CES 4', 'CHA 4', 'CSI 6', ...</td>\n",
       "      <td>[5.39, 19.9, 26.91, 0.18, 1.27, 153.5, 2.5, 11...</td>\n",
       "    </tr>\n",
       "    <tr>\n",
       "      <th>6</th>\n",
       "      <td>1996-01-10</td>\n",
       "      <td>['BES 4', 'CES 3', 'CES 4', 'CHA 4', 'CSI 6', ...</td>\n",
       "      <td>[5.21, 45.2, 26.5, 0.18, 1.22, 153.5, 2.5, 11....</td>\n",
       "    </tr>\n",
       "    <tr>\n",
       "      <th>7</th>\n",
       "      <td>1996-01-11</td>\n",
       "      <td>['BES 4', 'CES 3', 'CES 4', 'CHA 4', 'CSI 6', ...</td>\n",
       "      <td>[5.55, 19.5, 26.5, 0.18, 1.25, 49.01, 2.5, 7.2...</td>\n",
       "    </tr>\n",
       "    <tr>\n",
       "      <th>8</th>\n",
       "      <td>1996-01-12</td>\n",
       "      <td>['BES 4', 'CES 3', 'CES 4', 'CHA 4', 'CSI 6', ...</td>\n",
       "      <td>[5.8, 19.0, 26.8, 0.18, 1.27, 48.51, 0.7, 12.0...</td>\n",
       "    </tr>\n",
       "    <tr>\n",
       "      <th>9</th>\n",
       "      <td>1996-01-15</td>\n",
       "      <td>['BES 4', 'CES 3', 'CES 4', 'CHA 4', 'CSI 6', ...</td>\n",
       "      <td>[5.7, 17.8, 27.2, 0.18, 1.25, 48.0, 2.5, 11.5,...</td>\n",
       "    </tr>\n",
       "  </tbody>\n",
       "</table>\n",
       "</div>"
      ],
      "text/plain": [
       "       RptDt                                            TckrLst  \\\n",
       "0 1996-01-02  ['BES 4', 'CES 3', 'CES 4', 'CHA 4', 'CSI 6', ...   \n",
       "1 1996-01-03  ['BES 4', 'CES 3', 'CES 4', 'CHA 4', 'CSI 6', ...   \n",
       "2 1996-01-04  ['BES 4', 'CES 3', 'CES 4', 'CHA 4', 'CSI 6', ...   \n",
       "3 1996-01-05  ['BES 4', 'CES 3', 'CES 4', 'CHA 4', 'CSI 6', ...   \n",
       "4 1996-01-08  ['BES 4', 'CES 3', 'CES 4', 'CHA 4', 'CSI 6', ...   \n",
       "5 1996-01-09  ['BES 4', 'CES 3', 'CES 4', 'CHA 4', 'CSI 6', ...   \n",
       "6 1996-01-10  ['BES 4', 'CES 3', 'CES 4', 'CHA 4', 'CSI 6', ...   \n",
       "7 1996-01-11  ['BES 4', 'CES 3', 'CES 4', 'CHA 4', 'CSI 6', ...   \n",
       "8 1996-01-12  ['BES 4', 'CES 3', 'CES 4', 'CHA 4', 'CSI 6', ...   \n",
       "9 1996-01-15  ['BES 4', 'CES 3', 'CES 4', 'CHA 4', 'CSI 6', ...   \n",
       "\n",
       "                                              ClsPrc  \n",
       "0  [5.04, 23.0, 26.7, 0.16, 1.28, 46.0, 2.5, 10.7...  \n",
       "1  [5.35, 24.0, 27.5, 0.17, 1.37, 54.0, 0.7, 10.7...  \n",
       "2  [5.5, 22.0, 28.49, 0.17, 1.35, 153.5, 2.5, 7.2...  \n",
       "3  [5.5, 20.49, 27.99, 0.19, 1.34, 153.5, 2.5, 10...  \n",
       "4  [5.45, 20.29, 27.5, 0.19, 1.31, 153.5, 0.7, 10...  \n",
       "5  [5.39, 19.9, 26.91, 0.18, 1.27, 153.5, 2.5, 11...  \n",
       "6  [5.21, 45.2, 26.5, 0.18, 1.22, 153.5, 2.5, 11....  \n",
       "7  [5.55, 19.5, 26.5, 0.18, 1.25, 49.01, 2.5, 7.2...  \n",
       "8  [5.8, 19.0, 26.8, 0.18, 1.27, 48.51, 0.7, 12.0...  \n",
       "9  [5.7, 17.8, 27.2, 0.18, 1.25, 48.0, 2.5, 11.5,...  "
      ]
     },
     "execution_count": 2,
     "metadata": {},
     "output_type": "execute_result"
    }
   ],
   "source": [
    "stocks_frame = pd.read_excel('data/IBrXStocksFrame.xlsx')\n",
    "stocks_frame.drop('NmbrOfStcks', inplace=True, axis=1)\n",
    "stocks_frame.head(10)"
   ]
  },
  {
   "cell_type": "code",
   "execution_count": 3,
   "metadata": {},
   "outputs": [
    {
     "data": {
      "text/plain": [
       "6433"
      ]
     },
     "execution_count": 3,
     "metadata": {},
     "output_type": "execute_result"
    }
   ],
   "source": [
    "len(stocks_frame)"
   ]
  },
  {
   "cell_type": "code",
   "execution_count": 4,
   "metadata": {
    "scrolled": true
   },
   "outputs": [
    {
     "name": "stderr",
     "output_type": "stream",
     "text": [
      "100%|████████████████████████████████████████████████████████████████████████████| 6432/6432 [00:02<00:00, 2286.60it/s]\n"
     ]
    }
   ],
   "source": [
    "dates = []\n",
    "tickers = []\n",
    "prices = []\n",
    "for i in tqdm(range(1, len(stocks_frame)), position=0, leave=True):\n",
    "    date = stocks_frame.iloc[i-1]['RptDt']\n",
    "    next_date = stocks_frame.iloc[i]['RptDt']\n",
    "    difference = abs((date - next_date).days)\n",
    "    if difference > 1:\n",
    "        for j in range(difference-1):\n",
    "            date_tomorrow = date + timedelta(days=j+1)\n",
    "            dates.append(date_tomorrow)\n",
    "            tickers.append(stocks_frame.iloc[i-1]['TckrLst'])\n",
    "            prices.append(stocks_frame.iloc[i-1]['ClsPrc'])\n",
    "            \n",
    "aux = pd.DataFrame(list(zip(dates,tickers,prices)), columns=stocks_frame.columns)    "
   ]
  },
  {
   "cell_type": "code",
   "execution_count": 5,
   "metadata": {
    "scrolled": true
   },
   "outputs": [
    {
     "data": {
      "text/html": [
       "<div>\n",
       "<style scoped>\n",
       "    .dataframe tbody tr th:only-of-type {\n",
       "        vertical-align: middle;\n",
       "    }\n",
       "\n",
       "    .dataframe tbody tr th {\n",
       "        vertical-align: top;\n",
       "    }\n",
       "\n",
       "    .dataframe thead th {\n",
       "        text-align: right;\n",
       "    }\n",
       "</style>\n",
       "<table border=\"1\" class=\"dataframe\">\n",
       "  <thead>\n",
       "    <tr style=\"text-align: right;\">\n",
       "      <th></th>\n",
       "      <th>RptDt</th>\n",
       "      <th>TckrLst</th>\n",
       "      <th>ClsPrc</th>\n",
       "    </tr>\n",
       "  </thead>\n",
       "  <tbody>\n",
       "    <tr>\n",
       "      <th>0</th>\n",
       "      <td>1996-01-06</td>\n",
       "      <td>['BES 4', 'CES 3', 'CES 4', 'CHA 4', 'CSI 6', ...</td>\n",
       "      <td>[5.5, 20.49, 27.99, 0.19, 1.34, 153.5, 2.5, 10...</td>\n",
       "    </tr>\n",
       "    <tr>\n",
       "      <th>1</th>\n",
       "      <td>1996-01-07</td>\n",
       "      <td>['BES 4', 'CES 3', 'CES 4', 'CHA 4', 'CSI 6', ...</td>\n",
       "      <td>[5.5, 20.49, 27.99, 0.19, 1.34, 153.5, 2.5, 10...</td>\n",
       "    </tr>\n",
       "    <tr>\n",
       "      <th>2</th>\n",
       "      <td>1996-01-13</td>\n",
       "      <td>['BES 4', 'CES 3', 'CES 4', 'CHA 4', 'CSI 6', ...</td>\n",
       "      <td>[5.8, 19.0, 26.8, 0.18, 1.27, 48.51, 0.7, 12.0...</td>\n",
       "    </tr>\n",
       "  </tbody>\n",
       "</table>\n",
       "</div>"
      ],
      "text/plain": [
       "       RptDt                                            TckrLst  \\\n",
       "0 1996-01-06  ['BES 4', 'CES 3', 'CES 4', 'CHA 4', 'CSI 6', ...   \n",
       "1 1996-01-07  ['BES 4', 'CES 3', 'CES 4', 'CHA 4', 'CSI 6', ...   \n",
       "2 1996-01-13  ['BES 4', 'CES 3', 'CES 4', 'CHA 4', 'CSI 6', ...   \n",
       "\n",
       "                                              ClsPrc  \n",
       "0  [5.5, 20.49, 27.99, 0.19, 1.34, 153.5, 2.5, 10...  \n",
       "1  [5.5, 20.49, 27.99, 0.19, 1.34, 153.5, 2.5, 10...  \n",
       "2  [5.8, 19.0, 26.8, 0.18, 1.27, 48.51, 0.7, 12.0...  "
      ]
     },
     "metadata": {},
     "output_type": "display_data"
    }
   ],
   "source": [
    "display(aux.head(3))"
   ]
  },
  {
   "cell_type": "code",
   "execution_count": 6,
   "metadata": {},
   "outputs": [],
   "source": [
    "stocks_frame = pd.concat([aux, stocks_frame])"
   ]
  },
  {
   "cell_type": "code",
   "execution_count": 7,
   "metadata": {},
   "outputs": [
    {
     "data": {
      "text/html": [
       "<div>\n",
       "<style scoped>\n",
       "    .dataframe tbody tr th:only-of-type {\n",
       "        vertical-align: middle;\n",
       "    }\n",
       "\n",
       "    .dataframe tbody tr th {\n",
       "        vertical-align: top;\n",
       "    }\n",
       "\n",
       "    .dataframe thead th {\n",
       "        text-align: right;\n",
       "    }\n",
       "</style>\n",
       "<table border=\"1\" class=\"dataframe\">\n",
       "  <thead>\n",
       "    <tr style=\"text-align: right;\">\n",
       "      <th></th>\n",
       "      <th>RptDt</th>\n",
       "      <th>TckrLst</th>\n",
       "      <th>ClsPrc</th>\n",
       "    </tr>\n",
       "  </thead>\n",
       "  <tbody>\n",
       "    <tr>\n",
       "      <th>0</th>\n",
       "      <td>1996-01-06</td>\n",
       "      <td>['BES 4', 'CES 3', 'CES 4', 'CHA 4', 'CSI 6', ...</td>\n",
       "      <td>[5.5, 20.49, 27.99, 0.19, 1.34, 153.5, 2.5, 10...</td>\n",
       "    </tr>\n",
       "    <tr>\n",
       "      <th>1</th>\n",
       "      <td>1996-01-07</td>\n",
       "      <td>['BES 4', 'CES 3', 'CES 4', 'CHA 4', 'CSI 6', ...</td>\n",
       "      <td>[5.5, 20.49, 27.99, 0.19, 1.34, 153.5, 2.5, 10...</td>\n",
       "    </tr>\n",
       "    <tr>\n",
       "      <th>2</th>\n",
       "      <td>1996-01-13</td>\n",
       "      <td>['BES 4', 'CES 3', 'CES 4', 'CHA 4', 'CSI 6', ...</td>\n",
       "      <td>[5.8, 19.0, 26.8, 0.18, 1.27, 48.51, 0.7, 12.0...</td>\n",
       "    </tr>\n",
       "  </tbody>\n",
       "</table>\n",
       "</div>"
      ],
      "text/plain": [
       "       RptDt                                            TckrLst  \\\n",
       "0 1996-01-06  ['BES 4', 'CES 3', 'CES 4', 'CHA 4', 'CSI 6', ...   \n",
       "1 1996-01-07  ['BES 4', 'CES 3', 'CES 4', 'CHA 4', 'CSI 6', ...   \n",
       "2 1996-01-13  ['BES 4', 'CES 3', 'CES 4', 'CHA 4', 'CSI 6', ...   \n",
       "\n",
       "                                              ClsPrc  \n",
       "0  [5.5, 20.49, 27.99, 0.19, 1.34, 153.5, 2.5, 10...  \n",
       "1  [5.5, 20.49, 27.99, 0.19, 1.34, 153.5, 2.5, 10...  \n",
       "2  [5.8, 19.0, 26.8, 0.18, 1.27, 48.51, 0.7, 12.0...  "
      ]
     },
     "metadata": {},
     "output_type": "display_data"
    }
   ],
   "source": [
    "display(stocks_frame.head(3))"
   ]
  },
  {
   "cell_type": "code",
   "execution_count": 8,
   "metadata": {
    "scrolled": true
   },
   "outputs": [
    {
     "data": {
      "text/plain": [
       "9495"
      ]
     },
     "execution_count": 8,
     "metadata": {},
     "output_type": "execute_result"
    }
   ],
   "source": [
    "len(stocks_frame)"
   ]
  },
  {
   "cell_type": "code",
   "execution_count": 9,
   "metadata": {
    "scrolled": true
   },
   "outputs": [
    {
     "data": {
      "text/html": [
       "<div>\n",
       "<style scoped>\n",
       "    .dataframe tbody tr th:only-of-type {\n",
       "        vertical-align: middle;\n",
       "    }\n",
       "\n",
       "    .dataframe tbody tr th {\n",
       "        vertical-align: top;\n",
       "    }\n",
       "\n",
       "    .dataframe thead th {\n",
       "        text-align: right;\n",
       "    }\n",
       "</style>\n",
       "<table border=\"1\" class=\"dataframe\">\n",
       "  <thead>\n",
       "    <tr style=\"text-align: right;\">\n",
       "      <th></th>\n",
       "      <th>RptDt</th>\n",
       "      <th>TckrLst</th>\n",
       "      <th>ClsPrc</th>\n",
       "    </tr>\n",
       "  </thead>\n",
       "  <tbody>\n",
       "    <tr>\n",
       "      <th>0</th>\n",
       "      <td>1996-01-02</td>\n",
       "      <td>['BES 4', 'CES 3', 'CES 4', 'CHA 4', 'CSI 6', ...</td>\n",
       "      <td>[5.04, 23.0, 26.7, 0.16, 1.28, 46.0, 2.5, 10.7...</td>\n",
       "    </tr>\n",
       "    <tr>\n",
       "      <th>1</th>\n",
       "      <td>1996-01-03</td>\n",
       "      <td>['BES 4', 'CES 3', 'CES 4', 'CHA 4', 'CSI 6', ...</td>\n",
       "      <td>[5.35, 24.0, 27.5, 0.17, 1.37, 54.0, 0.7, 10.7...</td>\n",
       "    </tr>\n",
       "    <tr>\n",
       "      <th>2</th>\n",
       "      <td>1996-01-04</td>\n",
       "      <td>['BES 4', 'CES 3', 'CES 4', 'CHA 4', 'CSI 6', ...</td>\n",
       "      <td>[5.5, 22.0, 28.49, 0.17, 1.35, 153.5, 2.5, 7.2...</td>\n",
       "    </tr>\n",
       "  </tbody>\n",
       "</table>\n",
       "</div>"
      ],
      "text/plain": [
       "       RptDt                                            TckrLst  \\\n",
       "0 1996-01-02  ['BES 4', 'CES 3', 'CES 4', 'CHA 4', 'CSI 6', ...   \n",
       "1 1996-01-03  ['BES 4', 'CES 3', 'CES 4', 'CHA 4', 'CSI 6', ...   \n",
       "2 1996-01-04  ['BES 4', 'CES 3', 'CES 4', 'CHA 4', 'CSI 6', ...   \n",
       "\n",
       "                                              ClsPrc  \n",
       "0  [5.04, 23.0, 26.7, 0.16, 1.28, 46.0, 2.5, 10.7...  \n",
       "1  [5.35, 24.0, 27.5, 0.17, 1.37, 54.0, 0.7, 10.7...  \n",
       "2  [5.5, 22.0, 28.49, 0.17, 1.35, 153.5, 2.5, 7.2...  "
      ]
     },
     "execution_count": 9,
     "metadata": {},
     "output_type": "execute_result"
    }
   ],
   "source": [
    "stocks_frame = stocks_frame.sort_values(by='RptDt')\n",
    "stocks_frame.head(3)"
   ]
  },
  {
   "cell_type": "code",
   "execution_count": 10,
   "metadata": {},
   "outputs": [],
   "source": [
    "stocks_frame.to_excel(r'data/StocksFrameIBrX.xlsx', index=False)"
   ]
  },
  {
   "cell_type": "code",
   "execution_count": 14,
   "metadata": {},
   "outputs": [],
   "source": [
    "dates =pd.DataFrame(stocks_frame['RptDt'].tolist(), columns=['Dates'])"
   ]
  },
  {
   "cell_type": "code",
   "execution_count": 16,
   "metadata": {},
   "outputs": [],
   "source": [
    "dates.to_excel(r'data/DatesIbrX.xlsx', index=False)"
   ]
  }
 ],
 "metadata": {
  "kernelspec": {
   "display_name": "Python 3",
   "language": "python",
   "name": "python3"
  },
  "language_info": {
   "codemirror_mode": {
    "name": "ipython",
    "version": 3
   },
   "file_extension": ".py",
   "mimetype": "text/x-python",
   "name": "python",
   "nbconvert_exporter": "python",
   "pygments_lexer": "ipython3",
   "version": "3.8.5"
  }
 },
 "nbformat": 4,
 "nbformat_minor": 4
}
