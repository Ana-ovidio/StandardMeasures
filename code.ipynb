{
 "cells": [
  {
   "cell_type": "code",
   "execution_count": 293,
   "metadata": {},
   "outputs": [],
   "source": [
    "import pandas as pd\n",
    "import numpy as np\n",
    "from datetime import timedelta\n",
    "from tqdm import tqdm\n",
    "from scipy.stats import pearsonr"
   ]
  },
  {
   "cell_type": "code",
   "execution_count": 294,
   "metadata": {
    "scrolled": false
   },
   "outputs": [
    {
     "data": {
      "text/html": [
       "<div>\n",
       "<style scoped>\n",
       "    .dataframe tbody tr th:only-of-type {\n",
       "        vertical-align: middle;\n",
       "    }\n",
       "\n",
       "    .dataframe tbody tr th {\n",
       "        vertical-align: top;\n",
       "    }\n",
       "\n",
       "    .dataframe thead th {\n",
       "        text-align: right;\n",
       "    }\n",
       "</style>\n",
       "<table border=\"1\" class=\"dataframe\">\n",
       "  <thead>\n",
       "    <tr style=\"text-align: right;\">\n",
       "      <th></th>\n",
       "      <th>TckrLst</th>\n",
       "      <th>ClsPrc</th>\n",
       "      <th>NmbrOfStcks</th>\n",
       "    </tr>\n",
       "    <tr>\n",
       "      <th>RptDt</th>\n",
       "      <th></th>\n",
       "      <th></th>\n",
       "      <th></th>\n",
       "    </tr>\n",
       "  </thead>\n",
       "  <tbody>\n",
       "    <tr>\n",
       "      <th>1997-09-06</th>\n",
       "      <td>['ACE1', 'ACE2', 'ALP3', 'ALP4', 'ANH1', 'ANO5...</td>\n",
       "      <td>[9.0, 4.3, 435.0, 370.01, 8.51, 7.0, 590.0, 24...</td>\n",
       "      <td>128</td>\n",
       "    </tr>\n",
       "    <tr>\n",
       "      <th>1997-09-07</th>\n",
       "      <td>['ACE1', 'ACE2', 'ALP3', 'ALP4', 'ANH1', 'ANO5...</td>\n",
       "      <td>[9.0, 4.8, 435.0, 379.99, 10.5, 7.0, 850.0, 26...</td>\n",
       "      <td>127</td>\n",
       "    </tr>\n",
       "    <tr>\n",
       "      <th>1997-09-08</th>\n",
       "      <td>['ACE1', 'ACE2', 'ALP3', 'ALP4', 'ANH1', 'ANO5...</td>\n",
       "      <td>[10.0, 5.3, 450.0, 386.0, 10.5, 7.0, 650.0, 28...</td>\n",
       "      <td>127</td>\n",
       "    </tr>\n",
       "    <tr>\n",
       "      <th>1997-09-09</th>\n",
       "      <td>['ACE1', 'ACE2', 'ALP3', 'ALP4', 'ANH1', 'ANO5...</td>\n",
       "      <td>[6.0, 5.2, 460.0, 400.0, 9.5, 7.0, 700.0, 25.5...</td>\n",
       "      <td>126</td>\n",
       "    </tr>\n",
       "    <tr>\n",
       "      <th>1997-09-10</th>\n",
       "      <td>['ACE1', 'ACE2', 'ALP3', 'ALP4', 'ANH1', 'ANO5...</td>\n",
       "      <td>[8.0, 5.0, 450.0, 395.0, 9.0, 7.0, 850.0, 28.0...</td>\n",
       "      <td>127</td>\n",
       "    </tr>\n",
       "  </tbody>\n",
       "</table>\n",
       "</div>"
      ],
      "text/plain": [
       "                                                      TckrLst  \\\n",
       "RptDt                                                           \n",
       "1997-09-06  ['ACE1', 'ACE2', 'ALP3', 'ALP4', 'ANH1', 'ANO5...   \n",
       "1997-09-07  ['ACE1', 'ACE2', 'ALP3', 'ALP4', 'ANH1', 'ANO5...   \n",
       "1997-09-08  ['ACE1', 'ACE2', 'ALP3', 'ALP4', 'ANH1', 'ANO5...   \n",
       "1997-09-09  ['ACE1', 'ACE2', 'ALP3', 'ALP4', 'ANH1', 'ANO5...   \n",
       "1997-09-10  ['ACE1', 'ACE2', 'ALP3', 'ALP4', 'ANH1', 'ANO5...   \n",
       "\n",
       "                                                       ClsPrc  NmbrOfStcks  \n",
       "RptDt                                                                       \n",
       "1997-09-06  [9.0, 4.3, 435.0, 370.01, 8.51, 7.0, 590.0, 24...          128  \n",
       "1997-09-07  [9.0, 4.8, 435.0, 379.99, 10.5, 7.0, 850.0, 26...          127  \n",
       "1997-09-08  [10.0, 5.3, 450.0, 386.0, 10.5, 7.0, 650.0, 28...          127  \n",
       "1997-09-09  [6.0, 5.2, 460.0, 400.0, 9.5, 7.0, 700.0, 25.5...          126  \n",
       "1997-09-10  [8.0, 5.0, 450.0, 395.0, 9.0, 7.0, 850.0, 28.0...          127  "
      ]
     },
     "metadata": {},
     "output_type": "display_data"
    }
   ],
   "source": [
    "data_frame = pd.read_excel(r'data/StocksFrameIBOV.xlsx')\n",
    "data_frame = data_frame.set_index('RptDt')\n",
    "display(data_frame.head())"
   ]
  },
  {
   "cell_type": "markdown",
   "metadata": {},
   "source": [
    "-------\n",
    "**Transformando as strings da coluna de TcKrlst para listas**"
   ]
  },
  {
   "cell_type": "code",
   "execution_count": 295,
   "metadata": {},
   "outputs": [
    {
     "name": "stderr",
     "output_type": "stream",
     "text": [
      "100%|████████████████████████████████████████████████████████████████████████████| 8881/8881 [00:04<00:00, 2120.34it/s]\n"
     ]
    }
   ],
   "source": [
    "new_tickers = []\n",
    "for i in tqdm(range(len(data_frame)), position=0, leave=True):\n",
    "    df_to_list = data_frame.iloc[i][0].split(',')\n",
    "    df_to_list[0] = df_to_list[0].replace('[',' ')\n",
    "    df_to_list[-1] = df_to_list[-1].replace(']','')\n",
    "    for j, element in enumerate(df_to_list):\n",
    "        df_to_list[j] = element.replace(' ', '')\n",
    "        df_to_list[j] = df_to_list[j][1:len(df_to_list[j])-1]\n",
    "    new_tickers.append(df_to_list)\n",
    "    "
   ]
  },
  {
   "cell_type": "code",
   "execution_count": 296,
   "metadata": {},
   "outputs": [
    {
     "name": "stderr",
     "output_type": "stream",
     "text": [
      "100%|████████████████████████████████████████████████████████████████████████████| 8881/8881 [00:04<00:00, 2107.88it/s]\n"
     ]
    }
   ],
   "source": [
    "new_prices = []\n",
    "for i in tqdm(range(len(data_frame)), position=0, leave=True):\n",
    "    df_to_list = data_frame.iloc[i][1].split(',')\n",
    "    df_to_list[0] = df_to_list[0].replace('[',' ')\n",
    "    df_to_list[-1] = df_to_list[-1].replace(']','')\n",
    "    for j, element in enumerate(df_to_list):\n",
    "        df_to_list[j] = element.replace(' ', '')\n",
    "        df_to_list[j] = float(df_to_list[j])\n",
    "    new_prices.append(df_to_list)\n"
   ]
  },
  {
   "cell_type": "code",
   "execution_count": 297,
   "metadata": {
    "scrolled": true
   },
   "outputs": [
    {
     "data": {
      "text/html": [
       "<div>\n",
       "<style scoped>\n",
       "    .dataframe tbody tr th:only-of-type {\n",
       "        vertical-align: middle;\n",
       "    }\n",
       "\n",
       "    .dataframe tbody tr th {\n",
       "        vertical-align: top;\n",
       "    }\n",
       "\n",
       "    .dataframe thead th {\n",
       "        text-align: right;\n",
       "    }\n",
       "</style>\n",
       "<table border=\"1\" class=\"dataframe\">\n",
       "  <thead>\n",
       "    <tr style=\"text-align: right;\">\n",
       "      <th></th>\n",
       "      <th>TckrLst</th>\n",
       "      <th>ClsPrc</th>\n",
       "      <th>NmbrOfStcks</th>\n",
       "    </tr>\n",
       "    <tr>\n",
       "      <th>RptDt</th>\n",
       "      <th></th>\n",
       "      <th></th>\n",
       "      <th></th>\n",
       "    </tr>\n",
       "  </thead>\n",
       "  <tbody>\n",
       "    <tr>\n",
       "      <th>1997-09-06</th>\n",
       "      <td>[ACE1, ACE2, ALP3, ALP4, ANH1, ANO5, ART2, AVI...</td>\n",
       "      <td>[9.0, 4.3, 435.0, 370.01, 8.51, 7.0, 590.0, 24...</td>\n",
       "      <td>128</td>\n",
       "    </tr>\n",
       "    <tr>\n",
       "      <th>1997-09-07</th>\n",
       "      <td>[ACE1, ACE2, ALP3, ALP4, ANH1, ANO5, ART2, AVI...</td>\n",
       "      <td>[9.0, 4.8, 435.0, 379.99, 10.5, 7.0, 850.0, 26...</td>\n",
       "      <td>127</td>\n",
       "    </tr>\n",
       "    <tr>\n",
       "      <th>1997-09-08</th>\n",
       "      <td>[ACE1, ACE2, ALP3, ALP4, ANH1, ANO5, ART2, AVI...</td>\n",
       "      <td>[10.0, 5.3, 450.0, 386.0, 10.5, 7.0, 650.0, 28...</td>\n",
       "      <td>127</td>\n",
       "    </tr>\n",
       "    <tr>\n",
       "      <th>1997-09-09</th>\n",
       "      <td>[ACE1, ACE2, ALP3, ALP4, ANH1, ANO5, ART2, AVI...</td>\n",
       "      <td>[6.0, 5.2, 460.0, 400.0, 9.5, 7.0, 700.0, 25.5...</td>\n",
       "      <td>126</td>\n",
       "    </tr>\n",
       "    <tr>\n",
       "      <th>1997-09-10</th>\n",
       "      <td>[ACE1, ACE2, ALP3, ALP4, ANH1, ANO5, ART2, AVI...</td>\n",
       "      <td>[8.0, 5.0, 450.0, 395.0, 9.0, 7.0, 850.0, 28.0...</td>\n",
       "      <td>127</td>\n",
       "    </tr>\n",
       "    <tr>\n",
       "      <th>...</th>\n",
       "      <td>...</td>\n",
       "      <td>...</td>\n",
       "      <td>...</td>\n",
       "    </tr>\n",
       "    <tr>\n",
       "      <th>2021-12-25</th>\n",
       "      <td>[VALE3, PETR4, ITUB4, BBDC4, PETR3, B3SA3, ABE...</td>\n",
       "      <td>[79.1500015258789, 28.32999992370605, 21.34000...</td>\n",
       "      <td>92</td>\n",
       "    </tr>\n",
       "    <tr>\n",
       "      <th>2021-12-26</th>\n",
       "      <td>[VALE3, PETR4, ITUB4, BBDC4, PETR3, B3SA3, ABE...</td>\n",
       "      <td>[78.94999694824219, 28.75, 21.55999946594238, ...</td>\n",
       "      <td>92</td>\n",
       "    </tr>\n",
       "    <tr>\n",
       "      <th>2021-12-27</th>\n",
       "      <td>[VALE3, PETR4, ITUB4, BBDC4, PETR3, B3SA3, ABE...</td>\n",
       "      <td>[77.05000305175781, 28.78000068664551, 21.4799...</td>\n",
       "      <td>92</td>\n",
       "    </tr>\n",
       "    <tr>\n",
       "      <th>2021-12-28</th>\n",
       "      <td>[VALE3, PETR4, ITUB4, BBDC4, PETR3, B3SA3, ABE...</td>\n",
       "      <td>[77.25, 28.54000091552734, 21.29999923706055, ...</td>\n",
       "      <td>92</td>\n",
       "    </tr>\n",
       "    <tr>\n",
       "      <th>2021-12-29</th>\n",
       "      <td>[VALE3, PETR4, ITUB4, BBDC4, PETR3, B3SA3, ABE...</td>\n",
       "      <td>[77.95999908447266, 28.45000076293945, 20.9500...</td>\n",
       "      <td>93</td>\n",
       "    </tr>\n",
       "  </tbody>\n",
       "</table>\n",
       "<p>8881 rows × 3 columns</p>\n",
       "</div>"
      ],
      "text/plain": [
       "                                                      TckrLst  \\\n",
       "RptDt                                                           \n",
       "1997-09-06  [ACE1, ACE2, ALP3, ALP4, ANH1, ANO5, ART2, AVI...   \n",
       "1997-09-07  [ACE1, ACE2, ALP3, ALP4, ANH1, ANO5, ART2, AVI...   \n",
       "1997-09-08  [ACE1, ACE2, ALP3, ALP4, ANH1, ANO5, ART2, AVI...   \n",
       "1997-09-09  [ACE1, ACE2, ALP3, ALP4, ANH1, ANO5, ART2, AVI...   \n",
       "1997-09-10  [ACE1, ACE2, ALP3, ALP4, ANH1, ANO5, ART2, AVI...   \n",
       "...                                                       ...   \n",
       "2021-12-25  [VALE3, PETR4, ITUB4, BBDC4, PETR3, B3SA3, ABE...   \n",
       "2021-12-26  [VALE3, PETR4, ITUB4, BBDC4, PETR3, B3SA3, ABE...   \n",
       "2021-12-27  [VALE3, PETR4, ITUB4, BBDC4, PETR3, B3SA3, ABE...   \n",
       "2021-12-28  [VALE3, PETR4, ITUB4, BBDC4, PETR3, B3SA3, ABE...   \n",
       "2021-12-29  [VALE3, PETR4, ITUB4, BBDC4, PETR3, B3SA3, ABE...   \n",
       "\n",
       "                                                       ClsPrc  NmbrOfStcks  \n",
       "RptDt                                                                       \n",
       "1997-09-06  [9.0, 4.3, 435.0, 370.01, 8.51, 7.0, 590.0, 24...          128  \n",
       "1997-09-07  [9.0, 4.8, 435.0, 379.99, 10.5, 7.0, 850.0, 26...          127  \n",
       "1997-09-08  [10.0, 5.3, 450.0, 386.0, 10.5, 7.0, 650.0, 28...          127  \n",
       "1997-09-09  [6.0, 5.2, 460.0, 400.0, 9.5, 7.0, 700.0, 25.5...          126  \n",
       "1997-09-10  [8.0, 5.0, 450.0, 395.0, 9.0, 7.0, 850.0, 28.0...          127  \n",
       "...                                                       ...          ...  \n",
       "2021-12-25  [79.1500015258789, 28.32999992370605, 21.34000...           92  \n",
       "2021-12-26  [78.94999694824219, 28.75, 21.55999946594238, ...           92  \n",
       "2021-12-27  [77.05000305175781, 28.78000068664551, 21.4799...           92  \n",
       "2021-12-28  [77.25, 28.54000091552734, 21.29999923706055, ...           92  \n",
       "2021-12-29  [77.95999908447266, 28.45000076293945, 20.9500...           93  \n",
       "\n",
       "[8881 rows x 3 columns]"
      ]
     },
     "metadata": {},
     "output_type": "display_data"
    }
   ],
   "source": [
    "data_frame.drop(['TckrLst', 'ClsPrc'], axis=1)\n",
    "data_frame['TckrLst'] = new_tickers\n",
    "data_frame['ClsPrc'] = new_prices\n",
    "display(data_frame)"
   ]
  },
  {
   "cell_type": "markdown",
   "metadata": {},
   "source": [
    "-------\n",
    "**Escolha dos intervalos de análises**\n",
    "\n",
    "begin_date precisa ter dois anos de análises anteriores pois são necessários dados de correlação para serem excluidos na mudança relativa e na mudança relativa suavizada "
   ]
  },
  {
   "cell_type": "code",
   "execution_count": 298,
   "metadata": {},
   "outputs": [
    {
     "name": "stdout",
     "output_type": "stream",
     "text": [
      "Begin Date: 2000-09-06 00:00:00\n",
      "End Date: 2000-09-07 00:00:00\n"
     ]
    }
   ],
   "source": [
    "begin_date = pd.to_datetime('2000-09-06') - timedelta(days=2*365)\n",
    "end_date = pd.to_datetime('2000-09-07')\n",
    "print(f'Begin Date: {begin_date}')\n",
    "print(f'End Date: {end_date}')"
   ]
  },
  {
   "cell_type": "code",
   "execution_count": 299,
   "metadata": {},
   "outputs": [],
   "source": [
    "window = 365"
   ]
  },
  {
   "cell_type": "code",
   "execution_count": 300,
   "metadata": {},
   "outputs": [],
   "source": [
    "#Estima a covariância entre duas ações\n",
    "def covariance_estimation (x, y):\n",
    "    cova = np.cov(x, y)\n",
    "    cov_numeric = cova[0][-1]\n",
    "    return cov_numeric"
   ]
  },
  {
   "cell_type": "code",
   "execution_count": 301,
   "metadata": {},
   "outputs": [],
   "source": [
    "#Estima a correlação entre duas ações\n",
    "def correlation_estimation (x, y):\n",
    "    corr, _ = pearsonr(x, y)\n",
    "    return corr"
   ]
  },
  {
   "cell_type": "code",
   "execution_count": 302,
   "metadata": {},
   "outputs": [],
   "source": [
    "#Capta os preços de acordo com os índices\n",
    "def prices_stocks (data_frame, indexs1, indexs2, start, stop):\n",
    "    prices1 = []\n",
    "    prices2 = []\n",
    "    count = 0\n",
    "    for k in range(data_frame.index.get_loc(start), data_frame.index.get_loc(stop)+1):\n",
    "        prices1.append(data_frame.iloc[k][1][indexs1[count]])\n",
    "        prices2.append(data_frame.iloc[k][1][indexs2[count]])\n",
    "        count = count + 1\n",
    "    return prices1, prices2"
   ]
  },
  {
   "cell_type": "code",
   "execution_count": 303,
   "metadata": {},
   "outputs": [],
   "source": [
    "#Estima as posições de cada ação nas listas de tickres no período de 1 ano\n",
    "def prices_to_estimation (data_frame, intersection, start, stop, stock1, stock2):\n",
    "    indexs1 = []\n",
    "    indexs2 = []\n",
    "    for j in range(data_frame.index.get_loc(start), data_frame.index.get_loc(stop)+1):\n",
    "        indexs1.append(data_frame.iloc[j][0].index(stock1))\n",
    "        indexs2.append(data_frame.iloc[j][0].index(stock2))\n",
    "    prices1, prices2 = prices_stocks(data_frame, indexs1, indexs2, start, stop)\n",
    "    return prices1, prices2"
   ]
  },
  {
   "cell_type": "code",
   "execution_count": 304,
   "metadata": {},
   "outputs": [],
   "source": [
    "#Encontra a interceção entre duas listas\n",
    "def common_elements (current_tickrs, previous_tickrs):\n",
    "    intersection = []\n",
    "    aux = []\n",
    "    for element in current_tickres:\n",
    "        validation = [element in previous_tickrs[o] for o in range(len(previous_tickrs))]\n",
    "        if all(validation):\n",
    "            intersection.append(element)\n",
    "\n",
    "    return intersection"
   ]
  },
  {
   "cell_type": "code",
   "execution_count": 305,
   "metadata": {
    "scrolled": true
   },
   "outputs": [
    {
     "name": "stderr",
     "output_type": "stream",
     "text": [
      "combinação:   6%|████                                                                   | 3/52 [01:26<23:27, 28.72s/it]\n",
      "elementos comuns:   0%|                                                                          | 0/2 [01:26<?, ?it/s]\n"
     ]
    },
    {
     "ename": "KeyboardInterrupt",
     "evalue": "",
     "output_type": "error",
     "traceback": [
      "\u001b[1;31m---------------------------------------------------------------------------\u001b[0m",
      "\u001b[1;31mKeyboardInterrupt\u001b[0m                         Traceback (most recent call last)",
      "\u001b[1;32m<ipython-input-305-c68baccf8f13>\u001b[0m in \u001b[0;36m<module>\u001b[1;34m\u001b[0m\n\u001b[0;32m     25\u001b[0m         \u001b[1;32mfor\u001b[0m \u001b[0mb\u001b[0m \u001b[1;32min\u001b[0m \u001b[0mrange\u001b[0m\u001b[1;33m(\u001b[0m\u001b[0ma\u001b[0m\u001b[1;33m,\u001b[0m \u001b[0mlen\u001b[0m\u001b[1;33m(\u001b[0m\u001b[0mintersection\u001b[0m\u001b[1;33m)\u001b[0m\u001b[1;33m)\u001b[0m\u001b[1;33m:\u001b[0m\u001b[1;33m\u001b[0m\u001b[1;33m\u001b[0m\u001b[0m\n\u001b[0;32m     26\u001b[0m             \u001b[0mstock2\u001b[0m \u001b[1;33m=\u001b[0m \u001b[0mintersection\u001b[0m\u001b[1;33m[\u001b[0m\u001b[0mb\u001b[0m\u001b[1;33m]\u001b[0m\u001b[1;33m\u001b[0m\u001b[1;33m\u001b[0m\u001b[0m\n\u001b[1;32m---> 27\u001b[1;33m             prices1, prices2 = prices_to_estimation (data_frame, \n\u001b[0m\u001b[0;32m     28\u001b[0m                                                      \u001b[0mintersection\u001b[0m\u001b[1;33m,\u001b[0m \u001b[0mstart\u001b[0m\u001b[1;33m,\u001b[0m \u001b[0mstop\u001b[0m\u001b[1;33m,\u001b[0m\u001b[1;33m\u001b[0m\u001b[1;33m\u001b[0m\u001b[0m\n\u001b[0;32m     29\u001b[0m                                                      stock1, stock2)\n",
      "\u001b[1;32m<ipython-input-303-907f520bbc6a>\u001b[0m in \u001b[0;36mprices_to_estimation\u001b[1;34m(data_frame, intersection, start, stop, stock1, stock2)\u001b[0m\n\u001b[0;32m      4\u001b[0m     \u001b[0mindexs2\u001b[0m \u001b[1;33m=\u001b[0m \u001b[1;33m[\u001b[0m\u001b[1;33m]\u001b[0m\u001b[1;33m\u001b[0m\u001b[1;33m\u001b[0m\u001b[0m\n\u001b[0;32m      5\u001b[0m     \u001b[1;32mfor\u001b[0m \u001b[0mj\u001b[0m \u001b[1;32min\u001b[0m \u001b[0mrange\u001b[0m\u001b[1;33m(\u001b[0m\u001b[0mdata_frame\u001b[0m\u001b[1;33m.\u001b[0m\u001b[0mindex\u001b[0m\u001b[1;33m.\u001b[0m\u001b[0mget_loc\u001b[0m\u001b[1;33m(\u001b[0m\u001b[0mstart\u001b[0m\u001b[1;33m)\u001b[0m\u001b[1;33m,\u001b[0m \u001b[0mdata_frame\u001b[0m\u001b[1;33m.\u001b[0m\u001b[0mindex\u001b[0m\u001b[1;33m.\u001b[0m\u001b[0mget_loc\u001b[0m\u001b[1;33m(\u001b[0m\u001b[0mstop\u001b[0m\u001b[1;33m)\u001b[0m\u001b[1;33m+\u001b[0m\u001b[1;36m1\u001b[0m\u001b[1;33m)\u001b[0m\u001b[1;33m:\u001b[0m\u001b[1;33m\u001b[0m\u001b[1;33m\u001b[0m\u001b[0m\n\u001b[1;32m----> 6\u001b[1;33m         \u001b[0mindexs1\u001b[0m\u001b[1;33m.\u001b[0m\u001b[0mappend\u001b[0m\u001b[1;33m(\u001b[0m\u001b[0mdata_frame\u001b[0m\u001b[1;33m.\u001b[0m\u001b[0miloc\u001b[0m\u001b[1;33m[\u001b[0m\u001b[0mj\u001b[0m\u001b[1;33m]\u001b[0m\u001b[1;33m[\u001b[0m\u001b[1;36m0\u001b[0m\u001b[1;33m]\u001b[0m\u001b[1;33m.\u001b[0m\u001b[0mindex\u001b[0m\u001b[1;33m(\u001b[0m\u001b[0mstock1\u001b[0m\u001b[1;33m)\u001b[0m\u001b[1;33m)\u001b[0m\u001b[1;33m\u001b[0m\u001b[1;33m\u001b[0m\u001b[0m\n\u001b[0m\u001b[0;32m      7\u001b[0m         \u001b[0mindexs2\u001b[0m\u001b[1;33m.\u001b[0m\u001b[0mappend\u001b[0m\u001b[1;33m(\u001b[0m\u001b[0mdata_frame\u001b[0m\u001b[1;33m.\u001b[0m\u001b[0miloc\u001b[0m\u001b[1;33m[\u001b[0m\u001b[0mj\u001b[0m\u001b[1;33m]\u001b[0m\u001b[1;33m[\u001b[0m\u001b[1;36m0\u001b[0m\u001b[1;33m]\u001b[0m\u001b[1;33m.\u001b[0m\u001b[0mindex\u001b[0m\u001b[1;33m(\u001b[0m\u001b[0mstock2\u001b[0m\u001b[1;33m)\u001b[0m\u001b[1;33m)\u001b[0m\u001b[1;33m\u001b[0m\u001b[1;33m\u001b[0m\u001b[0m\n\u001b[0;32m      8\u001b[0m     \u001b[0mprices1\u001b[0m\u001b[1;33m,\u001b[0m \u001b[0mprices2\u001b[0m \u001b[1;33m=\u001b[0m \u001b[0mprices_stocks\u001b[0m\u001b[1;33m(\u001b[0m\u001b[0mdata_frame\u001b[0m\u001b[1;33m,\u001b[0m \u001b[0mindexs1\u001b[0m\u001b[1;33m,\u001b[0m \u001b[0mindexs2\u001b[0m\u001b[1;33m,\u001b[0m \u001b[0mstart\u001b[0m\u001b[1;33m,\u001b[0m \u001b[0mstop\u001b[0m\u001b[1;33m)\u001b[0m\u001b[1;33m\u001b[0m\u001b[1;33m\u001b[0m\u001b[0m\n",
      "\u001b[1;32mC:\\ProgramData\\Anaconda3\\lib\\site-packages\\pandas\\core\\indexing.py\u001b[0m in \u001b[0;36m__getitem__\u001b[1;34m(self, key)\u001b[0m\n\u001b[0;32m    877\u001b[0m \u001b[1;33m\u001b[0m\u001b[0m\n\u001b[0;32m    878\u001b[0m             \u001b[0mmaybe_callable\u001b[0m \u001b[1;33m=\u001b[0m \u001b[0mcom\u001b[0m\u001b[1;33m.\u001b[0m\u001b[0mapply_if_callable\u001b[0m\u001b[1;33m(\u001b[0m\u001b[0mkey\u001b[0m\u001b[1;33m,\u001b[0m \u001b[0mself\u001b[0m\u001b[1;33m.\u001b[0m\u001b[0mobj\u001b[0m\u001b[1;33m)\u001b[0m\u001b[1;33m\u001b[0m\u001b[1;33m\u001b[0m\u001b[0m\n\u001b[1;32m--> 879\u001b[1;33m             \u001b[1;32mreturn\u001b[0m \u001b[0mself\u001b[0m\u001b[1;33m.\u001b[0m\u001b[0m_getitem_axis\u001b[0m\u001b[1;33m(\u001b[0m\u001b[0mmaybe_callable\u001b[0m\u001b[1;33m,\u001b[0m \u001b[0maxis\u001b[0m\u001b[1;33m=\u001b[0m\u001b[0maxis\u001b[0m\u001b[1;33m)\u001b[0m\u001b[1;33m\u001b[0m\u001b[1;33m\u001b[0m\u001b[0m\n\u001b[0m\u001b[0;32m    880\u001b[0m \u001b[1;33m\u001b[0m\u001b[0m\n\u001b[0;32m    881\u001b[0m     \u001b[1;32mdef\u001b[0m \u001b[0m_is_scalar_access\u001b[0m\u001b[1;33m(\u001b[0m\u001b[0mself\u001b[0m\u001b[1;33m,\u001b[0m \u001b[0mkey\u001b[0m\u001b[1;33m:\u001b[0m \u001b[0mTuple\u001b[0m\u001b[1;33m)\u001b[0m\u001b[1;33m:\u001b[0m\u001b[1;33m\u001b[0m\u001b[1;33m\u001b[0m\u001b[0m\n",
      "\u001b[1;32mC:\\ProgramData\\Anaconda3\\lib\\site-packages\\pandas\\core\\indexing.py\u001b[0m in \u001b[0;36m_getitem_axis\u001b[1;34m(self, key, axis)\u001b[0m\n\u001b[0;32m   1496\u001b[0m             \u001b[0mself\u001b[0m\u001b[1;33m.\u001b[0m\u001b[0m_validate_integer\u001b[0m\u001b[1;33m(\u001b[0m\u001b[0mkey\u001b[0m\u001b[1;33m,\u001b[0m \u001b[0maxis\u001b[0m\u001b[1;33m)\u001b[0m\u001b[1;33m\u001b[0m\u001b[1;33m\u001b[0m\u001b[0m\n\u001b[0;32m   1497\u001b[0m \u001b[1;33m\u001b[0m\u001b[0m\n\u001b[1;32m-> 1498\u001b[1;33m             \u001b[1;32mreturn\u001b[0m \u001b[0mself\u001b[0m\u001b[1;33m.\u001b[0m\u001b[0mobj\u001b[0m\u001b[1;33m.\u001b[0m\u001b[0m_ixs\u001b[0m\u001b[1;33m(\u001b[0m\u001b[0mkey\u001b[0m\u001b[1;33m,\u001b[0m \u001b[0maxis\u001b[0m\u001b[1;33m=\u001b[0m\u001b[0maxis\u001b[0m\u001b[1;33m)\u001b[0m\u001b[1;33m\u001b[0m\u001b[1;33m\u001b[0m\u001b[0m\n\u001b[0m\u001b[0;32m   1499\u001b[0m \u001b[1;33m\u001b[0m\u001b[0m\n\u001b[0;32m   1500\u001b[0m     \u001b[1;32mdef\u001b[0m \u001b[0m_get_slice_axis\u001b[0m\u001b[1;33m(\u001b[0m\u001b[0mself\u001b[0m\u001b[1;33m,\u001b[0m \u001b[0mslice_obj\u001b[0m\u001b[1;33m:\u001b[0m \u001b[0mslice\u001b[0m\u001b[1;33m,\u001b[0m \u001b[0maxis\u001b[0m\u001b[1;33m:\u001b[0m \u001b[0mint\u001b[0m\u001b[1;33m)\u001b[0m\u001b[1;33m:\u001b[0m\u001b[1;33m\u001b[0m\u001b[1;33m\u001b[0m\u001b[0m\n",
      "\u001b[1;32mC:\\ProgramData\\Anaconda3\\lib\\site-packages\\pandas\\core\\frame.py\u001b[0m in \u001b[0;36m_ixs\u001b[1;34m(self, i, axis)\u001b[0m\n\u001b[0;32m   2831\u001b[0m             \u001b[1;31m# if we are a copy, mark as such\u001b[0m\u001b[1;33m\u001b[0m\u001b[1;33m\u001b[0m\u001b[1;33m\u001b[0m\u001b[0m\n\u001b[0;32m   2832\u001b[0m             \u001b[0mcopy\u001b[0m \u001b[1;33m=\u001b[0m \u001b[0misinstance\u001b[0m\u001b[1;33m(\u001b[0m\u001b[0mnew_values\u001b[0m\u001b[1;33m,\u001b[0m \u001b[0mnp\u001b[0m\u001b[1;33m.\u001b[0m\u001b[0mndarray\u001b[0m\u001b[1;33m)\u001b[0m \u001b[1;32mand\u001b[0m \u001b[0mnew_values\u001b[0m\u001b[1;33m.\u001b[0m\u001b[0mbase\u001b[0m \u001b[1;32mis\u001b[0m \u001b[1;32mNone\u001b[0m\u001b[1;33m\u001b[0m\u001b[1;33m\u001b[0m\u001b[0m\n\u001b[1;32m-> 2833\u001b[1;33m             result = self._constructor_sliced(\n\u001b[0m\u001b[0;32m   2834\u001b[0m                 \u001b[0mnew_values\u001b[0m\u001b[1;33m,\u001b[0m\u001b[1;33m\u001b[0m\u001b[1;33m\u001b[0m\u001b[0m\n\u001b[0;32m   2835\u001b[0m                 \u001b[0mindex\u001b[0m\u001b[1;33m=\u001b[0m\u001b[0mself\u001b[0m\u001b[1;33m.\u001b[0m\u001b[0mcolumns\u001b[0m\u001b[1;33m,\u001b[0m\u001b[1;33m\u001b[0m\u001b[1;33m\u001b[0m\u001b[0m\n",
      "\u001b[1;32mC:\\ProgramData\\Anaconda3\\lib\\site-packages\\pandas\\core\\series.py\u001b[0m in \u001b[0;36m__init__\u001b[1;34m(self, data, index, dtype, name, copy, fastpath)\u001b[0m\n\u001b[0;32m    247\u001b[0m                 \u001b[0mdata\u001b[0m \u001b[1;33m=\u001b[0m \u001b[1;33m{\u001b[0m\u001b[1;33m}\u001b[0m\u001b[1;33m\u001b[0m\u001b[1;33m\u001b[0m\u001b[0m\n\u001b[0;32m    248\u001b[0m             \u001b[1;32mif\u001b[0m \u001b[0mdtype\u001b[0m \u001b[1;32mis\u001b[0m \u001b[1;32mnot\u001b[0m \u001b[1;32mNone\u001b[0m\u001b[1;33m:\u001b[0m\u001b[1;33m\u001b[0m\u001b[1;33m\u001b[0m\u001b[0m\n\u001b[1;32m--> 249\u001b[1;33m                 \u001b[0mdtype\u001b[0m \u001b[1;33m=\u001b[0m \u001b[0mself\u001b[0m\u001b[1;33m.\u001b[0m\u001b[0m_validate_dtype\u001b[0m\u001b[1;33m(\u001b[0m\u001b[0mdtype\u001b[0m\u001b[1;33m)\u001b[0m\u001b[1;33m\u001b[0m\u001b[1;33m\u001b[0m\u001b[0m\n\u001b[0m\u001b[0;32m    250\u001b[0m \u001b[1;33m\u001b[0m\u001b[0m\n\u001b[0;32m    251\u001b[0m             \u001b[1;32mif\u001b[0m \u001b[0misinstance\u001b[0m\u001b[1;33m(\u001b[0m\u001b[0mdata\u001b[0m\u001b[1;33m,\u001b[0m \u001b[0mMultiIndex\u001b[0m\u001b[1;33m)\u001b[0m\u001b[1;33m:\u001b[0m\u001b[1;33m\u001b[0m\u001b[1;33m\u001b[0m\u001b[0m\n",
      "\u001b[1;32mC:\\ProgramData\\Anaconda3\\lib\\site-packages\\pandas\\core\\generic.py\u001b[0m in \u001b[0;36m_validate_dtype\u001b[1;34m(cls, dtype)\u001b[0m\n\u001b[0;32m    247\u001b[0m         \u001b[0mself\u001b[0m\u001b[1;33m.\u001b[0m\u001b[0m_attrs\u001b[0m \u001b[1;33m=\u001b[0m \u001b[0mdict\u001b[0m\u001b[1;33m(\u001b[0m\u001b[0mvalue\u001b[0m\u001b[1;33m)\u001b[0m\u001b[1;33m\u001b[0m\u001b[1;33m\u001b[0m\u001b[0m\n\u001b[0;32m    248\u001b[0m \u001b[1;33m\u001b[0m\u001b[0m\n\u001b[1;32m--> 249\u001b[1;33m     \u001b[1;33m@\u001b[0m\u001b[0mclassmethod\u001b[0m\u001b[1;33m\u001b[0m\u001b[1;33m\u001b[0m\u001b[0m\n\u001b[0m\u001b[0;32m    250\u001b[0m     \u001b[1;32mdef\u001b[0m \u001b[0m_validate_dtype\u001b[0m\u001b[1;33m(\u001b[0m\u001b[0mcls\u001b[0m\u001b[1;33m,\u001b[0m \u001b[0mdtype\u001b[0m\u001b[1;33m)\u001b[0m\u001b[1;33m:\u001b[0m\u001b[1;33m\u001b[0m\u001b[1;33m\u001b[0m\u001b[0m\n\u001b[0;32m    251\u001b[0m         \u001b[1;34m\"\"\" validate the passed dtype \"\"\"\u001b[0m\u001b[1;33m\u001b[0m\u001b[1;33m\u001b[0m\u001b[0m\n",
      "\u001b[1;31mKeyboardInterrupt\u001b[0m: "
     ]
    }
   ],
   "source": [
    "all_correlation = []\n",
    "all_covariance = []\n",
    "tamanho_inicio = []\n",
    "tamanho_int = []\n",
    "\n",
    "for i in tqdm(range(data_frame.index.get_loc(begin_date), data_frame.index.get_loc(end_date)+1),\\\n",
    "              position=0, leave=True, desc = 'elementos comuns'):\n",
    "    \n",
    "    start = data_frame.index[i] -  timedelta(days=window)\n",
    "    stop = data_frame.index[i]\n",
    "    \n",
    "    current_tickrs = data_frame.loc[stop]['TckrLst']\n",
    "    previous_tickrs = data_frame.loc[start:stop]['TckrLst'].tolist()\n",
    "    tamanho_inicio.append(len(current_tickres))\n",
    "    \n",
    "    intersection = common_elements(current_tickrs, previous_tickrs)\n",
    "    tamanho_int.append(len(intersection))\n",
    "    \n",
    "    \n",
    "    partial_corr = []\n",
    "    partial_cov =[]\n",
    "    \n",
    "    for a in tqdm(range (len(intersection)), position=0, leave=True, desc = 'combinação'):\n",
    "        stock1 = intersection[a]\n",
    "        for b in range(a, len(intersection)):\n",
    "            stock2 = intersection[b]\n",
    "            prices1, prices2 = prices_to_estimation (data_frame, \n",
    "                                                     intersection, start, stop, \n",
    "                                                     stock1, stock2)\n",
    "            corr = correlation_estimation(prices1, prices2)\n",
    "            cov = covariance_estimation(prices1, prices2)\n",
    "            partial_corr.append(corr)\n",
    "            partial_cov.append(cov)\n",
    "    all_correlation.append(np.mean(partial_corr))\n",
    "    all_covariance.append(np.mean(partial_cov))\n",
    "    \n",
    "    break\n",
    "    "
   ]
  },
  {
   "cell_type": "code",
   "execution_count": 309,
   "metadata": {},
   "outputs": [],
   "source": [
    "correlation_df = pd.DataFrame({'Correlation': all_correlation})\n",
    "covariance_df = pd.DataFrame({'Covariance': all_covariance})"
   ]
  },
  {
   "cell_type": "code",
   "execution_count": 310,
   "metadata": {},
   "outputs": [
    {
     "data": {
      "text/html": [
       "<div>\n",
       "<style scoped>\n",
       "    .dataframe tbody tr th:only-of-type {\n",
       "        vertical-align: middle;\n",
       "    }\n",
       "\n",
       "    .dataframe tbody tr th {\n",
       "        vertical-align: top;\n",
       "    }\n",
       "\n",
       "    .dataframe thead th {\n",
       "        text-align: right;\n",
       "    }\n",
       "</style>\n",
       "<table border=\"1\" class=\"dataframe\">\n",
       "  <thead>\n",
       "    <tr style=\"text-align: right;\">\n",
       "      <th></th>\n",
       "      <th>Correlation</th>\n",
       "    </tr>\n",
       "  </thead>\n",
       "  <tbody>\n",
       "  </tbody>\n",
       "</table>\n",
       "</div>"
      ],
      "text/plain": [
       "Empty DataFrame\n",
       "Columns: [Correlation]\n",
       "Index: []"
      ]
     },
     "execution_count": 310,
     "metadata": {},
     "output_type": "execute_result"
    }
   ],
   "source": [
    "correlation_df.to_excel(r'data/correlation.xlsx')\n",
    "covariance_df.to_excel(r'data/covariance.xlsx')"
   ]
  }
 ],
 "metadata": {
  "kernelspec": {
   "display_name": "Python 3",
   "language": "python",
   "name": "python3"
  },
  "language_info": {
   "codemirror_mode": {
    "name": "ipython",
    "version": 3
   },
   "file_extension": ".py",
   "mimetype": "text/x-python",
   "name": "python",
   "nbconvert_exporter": "python",
   "pygments_lexer": "ipython3",
   "version": "3.8.5"
  }
 },
 "nbformat": 4,
 "nbformat_minor": 4
}
