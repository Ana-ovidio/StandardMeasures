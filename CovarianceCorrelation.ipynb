{
 "cells": [
  {
   "cell_type": "code",
   "execution_count": 12,
   "metadata": {},
   "outputs": [],
   "source": [
    "import pyodbc\n",
    "import numpy as np\n",
    "import pandas as pd\n",
    "from tqdm import tqdm"
   ]
  },
  {
   "cell_type": "code",
   "execution_count": 13,
   "metadata": {},
   "outputs": [],
   "source": [
    "name_db = 'IndexDataBase'\n",
    "\n",
    "data_conection = (\"Driver={SQL Server};\"\n",
    "                 \"Server=DESKTOP-0EKP870;\"\n",
    "                 f\"Database={name_db};\")\n",
    "cnxn = pyodbc.connect(data_conection)"
   ]
  },
  {
   "cell_type": "markdown",
   "metadata": {},
   "source": [
    "------------\n",
    "**Importação dos nomes das tabelas**"
   ]
  },
  {
   "cell_type": "code",
   "execution_count": 14,
   "metadata": {},
   "outputs": [],
   "source": [
    "informationsTables = f'''\n",
    "SELECT * FROM INFORMATION_SCHEMA.TABLES\n",
    "'''\n",
    "informations_tables_df = pd.read_sql(informationsTables, cnxn)"
   ]
  },
  {
   "cell_type": "code",
   "execution_count": 15,
   "metadata": {
    "scrolled": false
   },
   "outputs": [
    {
     "data": {
      "text/html": [
       "<div>\n",
       "<style scoped>\n",
       "    .dataframe tbody tr th:only-of-type {\n",
       "        vertical-align: middle;\n",
       "    }\n",
       "\n",
       "    .dataframe tbody tr th {\n",
       "        vertical-align: top;\n",
       "    }\n",
       "\n",
       "    .dataframe thead th {\n",
       "        text-align: right;\n",
       "    }\n",
       "</style>\n",
       "<table border=\"1\" class=\"dataframe\">\n",
       "  <thead>\n",
       "    <tr style=\"text-align: right;\">\n",
       "      <th></th>\n",
       "      <th>TABLE_CATALOG</th>\n",
       "      <th>TABLE_SCHEMA</th>\n",
       "      <th>TABLE_NAME</th>\n",
       "      <th>TABLE_TYPE</th>\n",
       "    </tr>\n",
       "  </thead>\n",
       "  <tbody>\n",
       "    <tr>\n",
       "      <th>0</th>\n",
       "      <td>IndexDataBase</td>\n",
       "      <td>dbo</td>\n",
       "      <td>Table5117</td>\n",
       "      <td>BASE TABLE</td>\n",
       "    </tr>\n",
       "    <tr>\n",
       "      <th>1</th>\n",
       "      <td>IndexDataBase</td>\n",
       "      <td>dbo</td>\n",
       "      <td>Table8204</td>\n",
       "      <td>BASE TABLE</td>\n",
       "    </tr>\n",
       "    <tr>\n",
       "      <th>2</th>\n",
       "      <td>IndexDataBase</td>\n",
       "      <td>dbo</td>\n",
       "      <td>Table2873</td>\n",
       "      <td>BASE TABLE</td>\n",
       "    </tr>\n",
       "  </tbody>\n",
       "</table>\n",
       "</div>"
      ],
      "text/plain": [
       "   TABLE_CATALOG TABLE_SCHEMA TABLE_NAME  TABLE_TYPE\n",
       "0  IndexDataBase          dbo  Table5117  BASE TABLE\n",
       "1  IndexDataBase          dbo  Table8204  BASE TABLE\n",
       "2  IndexDataBase          dbo  Table2873  BASE TABLE"
      ]
     },
     "metadata": {},
     "output_type": "display_data"
    }
   ],
   "source": [
    "display(informations_tables_df.head(3))"
   ]
  },
  {
   "cell_type": "markdown",
   "metadata": {},
   "source": [
    "---------\n",
    "**Ordenando os dados referentes aos nomes**"
   ]
  },
  {
   "cell_type": "code",
   "execution_count": 16,
   "metadata": {},
   "outputs": [],
   "source": [
    "names = informations_tables_df['TABLE_NAME'].tolist()"
   ]
  },
  {
   "cell_type": "code",
   "execution_count": 17,
   "metadata": {},
   "outputs": [],
   "source": [
    "for i, name in enumerate(names):\n",
    "    names[i] = int(name[5:])"
   ]
  },
  {
   "cell_type": "code",
   "execution_count": 18,
   "metadata": {},
   "outputs": [],
   "source": [
    "names_orderned = sorted(names)\n",
    "for i, name in enumerate(names_orderned):\n",
    "    names_orderned[i] = 'Table'+str(name)"
   ]
  },
  {
   "cell_type": "markdown",
   "metadata": {},
   "source": [
    "def values_from_matrix (matrix):\n",
    "    valeus_outside_diagonal = []\n",
    "    for i, dataset in enumerate(matrix):\n",
    "        for j in range(i):\n",
    "            valeus_outside_diagonal.append(dataset[j])\n",
    "    return valeus_outside_diagonal"
   ]
  },
  {
   "cell_type": "code",
   "execution_count": 19,
   "metadata": {},
   "outputs": [],
   "source": [
    "def estimate_covariance (stocks_frame):\n",
    "    list_prices = []\n",
    "    for i in range(len(stocks_frame)):\n",
    "        list_prices.append(stocks_frame.iloc[i][:].tolist())\n",
    "    matrix_prices = np.array(list_prices)\n",
    "    \n",
    "    cov_matrix = np.cov(matrix_prices,bias=True)\n",
    "    corr_matrix = np.corrcoef(matrix_prices)\n",
    "    \n",
    "    mean_cov = np.mean(values_from_matrix (cov_matrix))\n",
    "    mean_corr = np.mean(values_from_matrix (corr_matrix))\n",
    "    return mean_cov, mean_corr"
   ]
  },
  {
   "cell_type": "code",
   "execution_count": 20,
   "metadata": {},
   "outputs": [],
   "source": [
    "def values_from_matrix (matrix):\n",
    "    valeus_outside_diagonal = []\n",
    "    for i in range(len(matrix)):\n",
    "        for j in range(i):\n",
    "            valeus_outside_diagonal.append(matrix.iloc[i][j])\n",
    "            \n",
    "    return np.mean(valeus_outside_diagonal)"
   ]
  },
  {
   "cell_type": "code",
   "execution_count": 21,
   "metadata": {},
   "outputs": [],
   "source": [
    "def estimation (stocks_frame):\n",
    "    cov_matrix = stocks_frame.cov()\n",
    "    corr_matrix = stocks_frame.corr(method='pearson')\n",
    "\n",
    "    mean_cov = values_from_matrix (cov_matrix)\n",
    "    mean_corr = values_from_matrix (corr_matrix)\n",
    "    return mean_cov, mean_corr    "
   ]
  },
  {
   "cell_type": "code",
   "execution_count": 22,
   "metadata": {
    "scrolled": true
   },
   "outputs": [
    {
     "name": "stderr",
     "output_type": "stream",
     "text": [
      "100%|██████████████████████████████████████████████████████████████████████████████| 8515/8515 [25:27<00:00,  5.57it/s]\n"
     ]
    }
   ],
   "source": [
    "all_cov_mean = []\n",
    "all_corr_mean = []\n",
    "for name_table in tqdm(names_orderned):\n",
    "    ImportTable = f'''\n",
    "    SELECT * FROM {name_table}\n",
    "    '''\n",
    "    stocks_frame = pd.read_sql(ImportTable, cnxn)\n",
    "    mean_cov, mean_corr = estimation (stocks_frame)\n",
    "    all_cov_mean.append(mean_cov)\n",
    "    all_corr_mean.append(mean_corr)\n",
    "    "
   ]
  },
  {
   "cell_type": "code",
   "execution_count": 23,
   "metadata": {
    "scrolled": false
   },
   "outputs": [
    {
     "data": {
      "text/html": [
       "<div>\n",
       "<style scoped>\n",
       "    .dataframe tbody tr th:only-of-type {\n",
       "        vertical-align: middle;\n",
       "    }\n",
       "\n",
       "    .dataframe tbody tr th {\n",
       "        vertical-align: top;\n",
       "    }\n",
       "\n",
       "    .dataframe thead th {\n",
       "        text-align: right;\n",
       "    }\n",
       "</style>\n",
       "<table border=\"1\" class=\"dataframe\">\n",
       "  <thead>\n",
       "    <tr style=\"text-align: right;\">\n",
       "      <th></th>\n",
       "      <th>Covariance</th>\n",
       "      <th>Correlation</th>\n",
       "    </tr>\n",
       "  </thead>\n",
       "  <tbody>\n",
       "    <tr>\n",
       "      <th>0</th>\n",
       "      <td>1796.475957</td>\n",
       "      <td>0.288998</td>\n",
       "    </tr>\n",
       "    <tr>\n",
       "      <th>1</th>\n",
       "      <td>1793.259437</td>\n",
       "      <td>0.289429</td>\n",
       "    </tr>\n",
       "    <tr>\n",
       "      <th>2</th>\n",
       "      <td>1794.121158</td>\n",
       "      <td>0.290246</td>\n",
       "    </tr>\n",
       "  </tbody>\n",
       "</table>\n",
       "</div>"
      ],
      "text/plain": [
       "    Covariance  Correlation\n",
       "0  1796.475957     0.288998\n",
       "1  1793.259437     0.289429\n",
       "2  1794.121158     0.290246"
      ]
     },
     "execution_count": 23,
     "metadata": {},
     "output_type": "execute_result"
    }
   ],
   "source": [
    "df_covariance = pd.DataFrame(list(zip(all_cov_mean, all_corr_mean)), columns=['Covariance',                                                                            'Correlation'])\n",
    "df_covariance.head(3)"
   ]
  },
  {
   "cell_type": "code",
   "execution_count": 24,
   "metadata": {},
   "outputs": [
    {
     "data": {
      "text/plain": [
       "8515"
      ]
     },
     "execution_count": 24,
     "metadata": {},
     "output_type": "execute_result"
    }
   ],
   "source": [
    "len(df_covariance)"
   ]
  },
  {
   "cell_type": "code",
   "execution_count": 25,
   "metadata": {},
   "outputs": [],
   "source": [
    "df_covariance.to_excel(r'data/CovarianceCorrelationIBOV.xlsx')"
   ]
  },
  {
   "cell_type": "code",
   "execution_count": 26,
   "metadata": {},
   "outputs": [
    {
     "data": {
      "text/html": [
       "<div>\n",
       "<style scoped>\n",
       "    .dataframe tbody tr th:only-of-type {\n",
       "        vertical-align: middle;\n",
       "    }\n",
       "\n",
       "    .dataframe tbody tr th {\n",
       "        vertical-align: top;\n",
       "    }\n",
       "\n",
       "    .dataframe thead th {\n",
       "        text-align: right;\n",
       "    }\n",
       "</style>\n",
       "<table border=\"1\" class=\"dataframe\">\n",
       "  <thead>\n",
       "    <tr style=\"text-align: right;\">\n",
       "      <th></th>\n",
       "      <th>Covariance</th>\n",
       "      <th>Correlation</th>\n",
       "    </tr>\n",
       "  </thead>\n",
       "  <tbody>\n",
       "    <tr>\n",
       "      <th>0</th>\n",
       "      <td>1796.475957</td>\n",
       "      <td>0.288998</td>\n",
       "    </tr>\n",
       "    <tr>\n",
       "      <th>1</th>\n",
       "      <td>1793.259437</td>\n",
       "      <td>0.289429</td>\n",
       "    </tr>\n",
       "    <tr>\n",
       "      <th>2</th>\n",
       "      <td>1794.121158</td>\n",
       "      <td>0.290246</td>\n",
       "    </tr>\n",
       "    <tr>\n",
       "      <th>3</th>\n",
       "      <td>1781.002458</td>\n",
       "      <td>0.293038</td>\n",
       "    </tr>\n",
       "    <tr>\n",
       "      <th>4</th>\n",
       "      <td>1775.698398</td>\n",
       "      <td>0.293632</td>\n",
       "    </tr>\n",
       "    <tr>\n",
       "      <th>...</th>\n",
       "      <td>...</td>\n",
       "      <td>...</td>\n",
       "    </tr>\n",
       "    <tr>\n",
       "      <th>8510</th>\n",
       "      <td>4.936401</td>\n",
       "      <td>0.148015</td>\n",
       "    </tr>\n",
       "    <tr>\n",
       "      <th>8511</th>\n",
       "      <td>4.997633</td>\n",
       "      <td>0.149385</td>\n",
       "    </tr>\n",
       "    <tr>\n",
       "      <th>8512</th>\n",
       "      <td>5.063470</td>\n",
       "      <td>0.150772</td>\n",
       "    </tr>\n",
       "    <tr>\n",
       "      <th>8513</th>\n",
       "      <td>5.129680</td>\n",
       "      <td>0.152362</td>\n",
       "    </tr>\n",
       "    <tr>\n",
       "      <th>8514</th>\n",
       "      <td>5.189240</td>\n",
       "      <td>0.153762</td>\n",
       "    </tr>\n",
       "  </tbody>\n",
       "</table>\n",
       "<p>8515 rows × 2 columns</p>\n",
       "</div>"
      ],
      "text/plain": [
       "       Covariance  Correlation\n",
       "0     1796.475957     0.288998\n",
       "1     1793.259437     0.289429\n",
       "2     1794.121158     0.290246\n",
       "3     1781.002458     0.293038\n",
       "4     1775.698398     0.293632\n",
       "...           ...          ...\n",
       "8510     4.936401     0.148015\n",
       "8511     4.997633     0.149385\n",
       "8512     5.063470     0.150772\n",
       "8513     5.129680     0.152362\n",
       "8514     5.189240     0.153762\n",
       "\n",
       "[8515 rows x 2 columns]"
      ]
     },
     "execution_count": 26,
     "metadata": {},
     "output_type": "execute_result"
    }
   ],
   "source": [
    "df_covariance"
   ]
  },
  {
   "cell_type": "code",
   "execution_count": 27,
   "metadata": {
    "scrolled": true
   },
   "outputs": [
    {
     "data": {
      "image/png": "[encoded data removed]",
      "text/plain": [
       "<Figure size 432x288 with 1 Axes>"
      ]
     },
     "metadata": {
      "needs_background": "light"
     },
     "output_type": "display_data"
    }
   ],
   "source": [
    "import matplotlib.pyplot as plt \n",
    "plt.plot(df_covariance.index, df_covariance['Covariance'], color='blue', lw=1.0)\n",
    "plt.grid(linestyle='--')\n",
    "plt.show()"
   ]
  },
  {
   "cell_type": "code",
   "execution_count": 28,
   "metadata": {},
   "outputs": [
    {
     "data": {
      "image/png": "[encoded data removed]",
      "text/plain": [
       "<Figure size 432x288 with 1 Axes>"
      ]
     },
     "metadata": {
      "needs_background": "light"
     },
     "output_type": "display_data"
    }
   ],
   "source": [
    "plt.plot(df_covariance.index, df_covariance['Correlation'], color='blue', lw=1.0)\n",
    "plt.grid(linestyle='--')\n",
    "plt.show()"
   ]
  }
 ],
 "metadata": {
  "kernelspec": {
   "display_name": "Python 3",
   "language": "python",
   "name": "python3"
  },
  "language_info": {
   "codemirror_mode": {
    "name": "ipython",
    "version": 3
   },
   "file_extension": ".py",
   "mimetype": "text/x-python",
   "name": "python",
   "nbconvert_exporter": "python",
   "pygments_lexer": "ipython3",
   "version": "3.8.5"
  }
 },
 "nbformat": 4,
 "nbformat_minor": 4
}
